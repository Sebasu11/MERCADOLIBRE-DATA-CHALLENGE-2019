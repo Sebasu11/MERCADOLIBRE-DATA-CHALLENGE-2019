{
 "cells": [
  {
   "cell_type": "markdown",
   "metadata": {},
   "source": [
    "# Librerias"
   ]
  },
  {
   "cell_type": "code",
   "execution_count": 1,
   "metadata": {
    "ExecuteTime": {
     "end_time": "2019-09-25T03:14:28.462346Z",
     "start_time": "2019-09-25T03:14:14.017799Z"
    }
   },
   "outputs": [],
   "source": [
    "import pandas as pd\n",
    "import numpy as np\n",
    "#import nltk\n",
    "import spacy\n",
    "import re\n",
    "import unicodedata\n",
    "nlp = spacy.load('es_core_news_sm')\n",
    "%matplotlib inline"
   ]
  },
  {
   "cell_type": "code",
   "execution_count": 2,
   "metadata": {
    "ExecuteTime": {
     "end_time": "2019-09-25T03:14:28.467297Z",
     "start_time": "2019-09-25T03:14:28.463308Z"
    }
   },
   "outputs": [],
   "source": [
    "import warnings\n",
    "warnings.filterwarnings('ignore')"
   ]
  },
  {
   "cell_type": "markdown",
   "metadata": {},
   "source": [
    "# data"
   ]
  },
  {
   "cell_type": "code",
   "execution_count": 3,
   "metadata": {
    "ExecuteTime": {
     "end_time": "2019-09-25T03:14:53.853445Z",
     "start_time": "2019-09-25T03:14:28.469292Z"
    }
   },
   "outputs": [],
   "source": [
    "df=pd.read_csv('data/train.csv')"
   ]
  },
  {
   "cell_type": "markdown",
   "metadata": {},
   "source": [
    "# Filter"
   ]
  },
  {
   "cell_type": "code",
   "execution_count": 4,
   "metadata": {
    "ExecuteTime": {
     "end_time": "2019-09-25T03:14:57.045948Z",
     "start_time": "2019-09-25T03:14:53.855440Z"
    }
   },
   "outputs": [],
   "source": [
    "temp1=df[df['label_quality']=='unreliable']['category'].tolist()\n",
    "temp2=df[df['label_quality']=='reliable']['category'].tolist()"
   ]
  },
  {
   "cell_type": "code",
   "execution_count": 5,
   "metadata": {
    "ExecuteTime": {
     "end_time": "2019-09-25T03:14:57.779142Z",
     "start_time": "2019-09-25T03:14:57.048901Z"
    },
    "scrolled": false
   },
   "outputs": [],
   "source": [
    "cat_not_in_reliable=list(set(temp1) - set(temp2))"
   ]
  },
  {
   "cell_type": "code",
   "execution_count": 6,
   "metadata": {
    "ExecuteTime": {
     "end_time": "2019-09-25T03:15:00.391960Z",
     "start_time": "2019-09-25T03:14:57.779949Z"
    }
   },
   "outputs": [],
   "source": [
    "cat_count=df[(df['label_quality']=='reliable')|(df['category'].isin(cat_not_in_reliable))]['category'].value_counts()"
   ]
  },
  {
   "cell_type": "code",
   "execution_count": 7,
   "metadata": {
    "ExecuteTime": {
     "end_time": "2019-09-25T03:15:00.456815Z",
     "start_time": "2019-09-25T03:15:00.393955Z"
    }
   },
   "outputs": [],
   "source": [
    "cat_low_count=cat_count[cat_count<4000].index.tolist()"
   ]
  },
  {
   "cell_type": "code",
   "execution_count": 8,
   "metadata": {
    "ExecuteTime": {
     "end_time": "2019-09-25T03:15:05.020630Z",
     "start_time": "2019-09-25T03:15:00.458783Z"
    }
   },
   "outputs": [],
   "source": [
    "df=df[(df['label_quality']=='reliable')|(df['category'].isin(cat_not_in_reliable))|(df['category'].isin(cat_low_count))]"
   ]
  },
  {
   "cell_type": "code",
   "execution_count": 9,
   "metadata": {
    "ExecuteTime": {
     "end_time": "2019-09-25T03:15:13.365319Z",
     "start_time": "2019-09-25T03:15:05.021580Z"
    }
   },
   "outputs": [],
   "source": [
    "#df_spanish    = df[df['language']=='spanish']\n",
    "#df_spanish=df_spanish.groupby('category').filter(lambda x:len(x)>=20)\n",
    "#counts_spanish    = df_spanish['category'].value_counts()\n",
    "\n",
    "all_cat=df['category'].value_counts()\n",
    "\n",
    "all_cat=all_cat[all_cat<=400].index.tolist()\n",
    "\n",
    "df_spanish_temp        = df[df['language']=='spanish']\n",
    "counts_spanish         = df_spanish_temp['category'].value_counts()\n",
    "low_spanish            =counts_spanish[counts_spanish<200]\n",
    "\n",
    "df_spanish=df[(df['language']=='spanish')|\\\n",
    "              (~df['category'].isin(counts_spanish.index))|\\\n",
    "              (df['category'].isin(all_cat))|\\\n",
    "              (df['category'].isin(low_spanish.index))]"
   ]
  },
  {
   "cell_type": "markdown",
   "metadata": {},
   "source": [
    "# ML"
   ]
  },
  {
   "cell_type": "markdown",
   "metadata": {},
   "source": [
    "## Preprocessing"
   ]
  },
  {
   "cell_type": "code",
   "execution_count": 10,
   "metadata": {
    "ExecuteTime": {
     "end_time": "2019-09-25T03:15:13.371251Z",
     "start_time": "2019-09-25T03:15:13.366265Z"
    }
   },
   "outputs": [],
   "source": [
    "def clean_text(text) :\n",
    "    text=unicodedata.normalize('NFKD', str(text)).encode('ascii', errors='ignore').decode('utf-8')\\\n",
    "    .lower().replace(r'\\\\n','').replace(r'-',' ').replace(r'.','').strip()\n",
    "    text = re.sub(\"[^a-zA-Z]\", \" \", str(text))\n",
    "    return \" \".join(text.split())\n",
    "    #return \" \".join([w for w in text.split() if len(w)>1])"
   ]
  },
  {
   "cell_type": "code",
   "execution_count": 11,
   "metadata": {
    "ExecuteTime": {
     "end_time": "2019-09-25T03:15:13.377265Z",
     "start_time": "2019-09-25T03:15:13.373247Z"
    }
   },
   "outputs": [],
   "source": [
    "def lemmatization(text):\n",
    "    txt = nlp(text)\n",
    "    lemmatize_sentence=[]\n",
    "    for token in txt:\n",
    "        lemmatize_sentence.append(token.lemma_)\n",
    "    return \" \".join(lemmatize_sentence)"
   ]
  },
  {
   "cell_type": "code",
   "execution_count": 12,
   "metadata": {
    "ExecuteTime": {
     "end_time": "2019-09-25T03:15:13.383241Z",
     "start_time": "2019-09-25T03:15:13.378245Z"
    }
   },
   "outputs": [],
   "source": [
    "#spacy_stopwords = spacy.lang.es.stop_words.STOP_WORDS"
   ]
  },
  {
   "cell_type": "markdown",
   "metadata": {},
   "source": [
    "## sample"
   ]
  },
  {
   "cell_type": "code",
   "execution_count": 13,
   "metadata": {
    "ExecuteTime": {
     "end_time": "2019-09-25T03:15:14.298804Z",
     "start_time": "2019-09-25T03:15:13.384217Z"
    }
   },
   "outputs": [],
   "source": [
    "sampling_spanish={}\n",
    "counts_spanish  = df_spanish['category'].value_counts()\n",
    "for cat in counts_spanish.index:\n",
    "    if counts_spanish.loc[cat]>2200:\n",
    "        sampling_spanish[cat]=2200\n",
    "    else:\n",
    "        sampling_spanish[cat]=counts_spanish.loc[cat]"
   ]
  },
  {
   "cell_type": "code",
   "execution_count": 14,
   "metadata": {
    "ExecuteTime": {
     "end_time": "2019-09-25T03:15:32.138609Z",
     "start_time": "2019-09-25T03:15:14.299768Z"
    }
   },
   "outputs": [],
   "source": [
    "from imblearn.pipeline import Pipeline as make_pipeline_imb\n",
    "from imblearn.over_sampling import SMOTE,BorderlineSMOTE\n",
    "from sklearn.feature_extraction.text import TfidfVectorizer,CountVectorizer,TfidfTransformer\n",
    "from sklearn.naive_bayes import MultinomialNB\n",
    "from sklearn.svm import LinearSVC\n",
    "from sklearn.model_selection import train_test_split\n",
    "from imblearn.under_sampling import RandomUnderSampler\n",
    "from sklearn.decomposition import TruncatedSVD"
   ]
  },
  {
   "cell_type": "code",
   "execution_count": 15,
   "metadata": {
    "ExecuteTime": {
     "end_time": "2019-09-25T03:15:32.147546Z",
     "start_time": "2019-09-25T03:15:32.143558Z"
    }
   },
   "outputs": [],
   "source": [
    "from sklearn.metrics import balanced_accuracy_score"
   ]
  },
  {
   "cell_type": "code",
   "execution_count": 16,
   "metadata": {
    "ExecuteTime": {
     "end_time": "2019-09-25T03:15:32.156529Z",
     "start_time": "2019-09-25T03:15:32.149533Z"
    }
   },
   "outputs": [],
   "source": [
    "X_spanish = df_spanish['title']\n",
    "y_spanish = df_spanish['category']"
   ]
  },
  {
   "cell_type": "code",
   "execution_count": 17,
   "metadata": {
    "ExecuteTime": {
     "end_time": "2019-09-25T03:22:01.041560Z",
     "start_time": "2019-09-25T03:15:32.157477Z"
    }
   },
   "outputs": [],
   "source": [
    "rus_spanish = RandomUnderSampler(sampling_strategy=sampling_spanish,random_state=42)\n",
    "X_res_spanish, y_res_spanish = rus_spanish.fit_resample(X_spanish.values.reshape(-1, 1), y_spanish)"
   ]
  },
  {
   "cell_type": "code",
   "execution_count": 18,
   "metadata": {
    "ExecuteTime": {
     "end_time": "2019-09-25T03:22:01.975077Z",
     "start_time": "2019-09-25T03:22:01.043521Z"
    }
   },
   "outputs": [],
   "source": [
    "#SPANISH\n",
    "X_res_spanish=pd.DataFrame(X_res_spanish)\n",
    "X_res_spanish.columns=['title']\n",
    "X_res_spanish['title']=X_res_spanish['title'].astype('str')\n",
    "y_res_spanish=pd.Series(y_res_spanish)"
   ]
  },
  {
   "cell_type": "code",
   "execution_count": 19,
   "metadata": {
    "ExecuteTime": {
     "end_time": "2019-09-25T03:22:02.217381Z",
     "start_time": "2019-09-25T03:22:01.976027Z"
    }
   },
   "outputs": [
    {
     "name": "stdout",
     "output_type": "stream",
     "text": [
      "MOTORCYCLE_OIL_PUMPS                    2200\n",
      "EASTER_EGGS                             2200\n",
      "TABLE_CLOCKS                            2200\n",
      "NETWORK_CABLES                          2200\n",
      "FACE_MASKS                              2200\n",
      "                                        ... \n",
      "CONSTRUCTION_LIME_BAGS                   206\n",
      "COLD_FOOD_AND_DRINK_VENDING_MACHINES     162\n",
      "PAINTBALL_SMOKE_GRENADES                 154\n",
      "COMMERCIAL_POPCORN_MACHINES              141\n",
      "HAMBURGER_FORMERS                        109\n",
      "Length: 1588, dtype: int64\n"
     ]
    }
   ],
   "source": [
    "print(y_res_spanish.value_counts())"
   ]
  },
  {
   "cell_type": "code",
   "execution_count": 20,
   "metadata": {
    "ExecuteTime": {
     "end_time": "2019-09-25T03:22:02.453752Z",
     "start_time": "2019-09-25T03:22:02.219376Z"
    }
   },
   "outputs": [
    {
     "name": "stdout",
     "output_type": "stream",
     "text": [
      "y_res_spanish : 1588\n"
     ]
    }
   ],
   "source": [
    "print('y_res_spanish :',y_res_spanish.nunique())"
   ]
  },
  {
   "cell_type": "markdown",
   "metadata": {},
   "source": [
    "## lemmatization"
   ]
  },
  {
   "cell_type": "code",
   "execution_count": 21,
   "metadata": {
    "ExecuteTime": {
     "end_time": "2019-09-25T03:22:02.458737Z",
     "start_time": "2019-09-25T03:22:02.454748Z"
    }
   },
   "outputs": [],
   "source": [
    "#X_res_spanish['title']=X_res_spanish['title'].apply(lemmatization)"
   ]
  },
  {
   "cell_type": "markdown",
   "metadata": {},
   "source": [
    "## CLEAN"
   ]
  },
  {
   "cell_type": "code",
   "execution_count": 22,
   "metadata": {
    "ExecuteTime": {
     "end_time": "2019-09-25T03:22:17.173431Z",
     "start_time": "2019-09-25T03:22:02.459733Z"
    }
   },
   "outputs": [],
   "source": [
    "X_res_spanish['title']=X_res_spanish['title'].apply(clean_text)"
   ]
  },
  {
   "cell_type": "code",
   "execution_count": 23,
   "metadata": {
    "ExecuteTime": {
     "end_time": "2019-09-25T03:22:17.526274Z",
     "start_time": "2019-09-25T03:22:17.177411Z"
    }
   },
   "outputs": [
    {
     "data": {
      "text/html": [
       "<div>\n",
       "<style scoped>\n",
       "    .dataframe tbody tr th:only-of-type {\n",
       "        vertical-align: middle;\n",
       "    }\n",
       "\n",
       "    .dataframe tbody tr th {\n",
       "        vertical-align: top;\n",
       "    }\n",
       "\n",
       "    .dataframe thead th {\n",
       "        text-align: right;\n",
       "    }\n",
       "</style>\n",
       "<table border=\"1\" class=\"dataframe\">\n",
       "  <thead>\n",
       "    <tr style=\"text-align: right;\">\n",
       "      <th></th>\n",
       "      <th>title</th>\n",
       "    </tr>\n",
       "  </thead>\n",
       "  <tbody>\n",
       "    <tr>\n",
       "      <td>0</td>\n",
       "      <td>lg d glasses</td>\n",
       "    </tr>\n",
       "    <tr>\n",
       "      <td>1</td>\n",
       "      <td>g bt bluetooth d gafas obturador activas para ...</td>\n",
       "    </tr>\n",
       "    <tr>\n",
       "      <td>2</td>\n",
       "      <td>gafas dultra clear hd hz dlp link d gafas de o...</td>\n",
       "    </tr>\n",
       "    <tr>\n",
       "      <td>3</td>\n",
       "      <td>el gafas d con obturador activo compatibles con g</td>\n",
       "    </tr>\n",
       "    <tr>\n",
       "      <td>4</td>\n",
       "      <td>marco metal vendimia circulo ronda lente lente...</td>\n",
       "    </tr>\n",
       "  </tbody>\n",
       "</table>\n",
       "</div>"
      ],
      "text/plain": [
       "                                               title\n",
       "0                                       lg d glasses\n",
       "1  g bt bluetooth d gafas obturador activas para ...\n",
       "2  gafas dultra clear hd hz dlp link d gafas de o...\n",
       "3  el gafas d con obturador activo compatibles con g\n",
       "4  marco metal vendimia circulo ronda lente lente..."
      ]
     },
     "execution_count": 23,
     "metadata": {},
     "output_type": "execute_result"
    }
   ],
   "source": [
    "X_res_spanish.head()"
   ]
  },
  {
   "cell_type": "markdown",
   "metadata": {},
   "source": [
    "## train_test_split"
   ]
  },
  {
   "cell_type": "code",
   "execution_count": 24,
   "metadata": {
    "ExecuteTime": {
     "end_time": "2019-09-25T03:22:21.466869Z",
     "start_time": "2019-09-25T03:22:17.529268Z"
    }
   },
   "outputs": [],
   "source": [
    "X_train_spanish, X_test_spanish, y_train_spanish, y_test_spanish = train_test_split(X_res_spanish['title'],\n",
    "                                                                                    y_res_spanish,\n",
    "                                                                                    test_size=0.46,\n",
    "                                                                                    random_state=42,\n",
    "                                                                                    stratify=y_res_spanish)"
   ]
  },
  {
   "cell_type": "code",
   "execution_count": 25,
   "metadata": {
    "ExecuteTime": {
     "end_time": "2019-09-25T03:22:21.474716Z",
     "start_time": "2019-09-25T03:22:21.468766Z"
    }
   },
   "outputs": [
    {
     "name": "stdout",
     "output_type": "stream",
     "text": [
      "X_train_spanish :  (1597357,)\n"
     ]
    }
   ],
   "source": [
    "print('X_train_spanish : ',X_train_spanish.shape)"
   ]
  },
  {
   "cell_type": "code",
   "execution_count": 26,
   "metadata": {
    "ExecuteTime": {
     "end_time": "2019-09-25T03:22:21.481697Z",
     "start_time": "2019-09-25T03:22:21.475714Z"
    }
   },
   "outputs": [
    {
     "name": "stdout",
     "output_type": "stream",
     "text": [
      "y_train_spanish :  (1597357,)\n"
     ]
    }
   ],
   "source": [
    "print('y_train_spanish : ',y_train_spanish.shape)"
   ]
  },
  {
   "cell_type": "code",
   "execution_count": 27,
   "metadata": {
    "ExecuteTime": {
     "end_time": "2019-09-25T03:22:21.751974Z",
     "start_time": "2019-09-25T03:22:21.483693Z"
    }
   },
   "outputs": [
    {
     "name": "stdout",
     "output_type": "stream",
     "text": [
      "y_test_spanish :  1588\n"
     ]
    }
   ],
   "source": [
    "print('y_test_spanish : ',y_test_spanish.nunique())"
   ]
  },
  {
   "cell_type": "code",
   "execution_count": 28,
   "metadata": {
    "ExecuteTime": {
     "end_time": "2019-09-25T03:22:22.064174Z",
     "start_time": "2019-09-25T03:22:21.752972Z"
    }
   },
   "outputs": [
    {
     "name": "stdout",
     "output_type": "stream",
     "text": [
      "y_test_spanish : \n",
      " MOTORCYCLE_OIL_PUMPS                    1012\n",
      "LOAFERS_AND_OXFORDS                     1012\n",
      "FALSE_EYELASHES                         1012\n",
      "POLYFUSION_DEVICES                      1012\n",
      "BREAKFASTS_AND_AFTERNOON_TEAS           1012\n",
      "                                        ... \n",
      "CONSTRUCTION_LIME_BAGS                    95\n",
      "COLD_FOOD_AND_DRINK_VENDING_MACHINES      75\n",
      "PAINTBALL_SMOKE_GRENADES                  71\n",
      "COMMERCIAL_POPCORN_MACHINES               65\n",
      "HAMBURGER_FORMERS                         50\n",
      "Length: 1588, dtype: int64\n"
     ]
    }
   ],
   "source": [
    "print('y_test_spanish : \\n',y_test_spanish.value_counts())"
   ]
  },
  {
   "cell_type": "markdown",
   "metadata": {},
   "source": [
    "## MultinomialNB"
   ]
  },
  {
   "cell_type": "code",
   "execution_count": 29,
   "metadata": {
    "ExecuteTime": {
     "end_time": "2019-09-25T03:05:23.254030Z",
     "start_time": "2019-09-25T03:05:23.250011Z"
    }
   },
   "outputs": [],
   "source": [
    "bayes_text_clf =  make_pipeline_imb([('CountVectorizer', CountVectorizer(encoding='latin-1',\n",
    "                                                               max_df=0.90,\n",
    "                                                               min_df=10,\n",
    "                                                               max_features=200000,\n",
    "                                                               #stop_words=list(spacy_stopwords),\n",
    "                                                              )),\n",
    "                                     ('SMOTE',SMOTE(random_state=42)),\n",
    "                                     ('MultinomialNB',  MultinomialNB())])"
   ]
  },
  {
   "cell_type": "code",
   "execution_count": 30,
   "metadata": {
    "ExecuteTime": {
     "end_time": "2019-09-25T03:11:56.623060Z",
     "start_time": "2019-09-25T03:05:27.873706Z"
    }
   },
   "outputs": [],
   "source": [
    "bayes_spanish_clf=bayes_text_clf.fit(X_train_spanish,y_train_spanish)"
   ]
  },
  {
   "cell_type": "code",
   "execution_count": 31,
   "metadata": {
    "ExecuteTime": {
     "end_time": "2019-09-25T03:12:02.289692Z",
     "start_time": "2019-09-25T03:12:01.904093Z"
    }
   },
   "outputs": [
    {
     "data": {
      "text/plain": [
       "1588"
      ]
     },
     "execution_count": 31,
     "metadata": {},
     "output_type": "execute_result"
    }
   ],
   "source": [
    "y_test_spanish.nunique()"
   ]
  },
  {
   "cell_type": "code",
   "execution_count": 32,
   "metadata": {
    "ExecuteTime": {
     "end_time": "2019-09-25T03:12:06.809001Z",
     "start_time": "2019-09-25T03:12:06.797033Z"
    }
   },
   "outputs": [
    {
     "data": {
      "text/plain": [
       "(1360713,)"
      ]
     },
     "execution_count": 32,
     "metadata": {},
     "output_type": "execute_result"
    }
   ],
   "source": [
    "X_test_spanish.shape"
   ]
  },
  {
   "cell_type": "code",
   "execution_count": 33,
   "metadata": {
    "ExecuteTime": {
     "end_time": "2019-09-25T03:12:36.012973Z",
     "start_time": "2019-09-25T03:12:11.300989Z"
    }
   },
   "outputs": [
    {
     "data": {
      "text/plain": [
       "0.8122125475641203"
      ]
     },
     "execution_count": 33,
     "metadata": {},
     "output_type": "execute_result"
    }
   ],
   "source": [
    "y_pred_spanish = bayes_spanish_clf.predict(X_test_spanish.head(X_test_spanish.shape[0]//2))\n",
    "balanced_accuracy_score(y_test_spanish.head(X_test_spanish.shape[0]//2), y_pred_spanish)"
   ]
  },
  {
   "cell_type": "code",
   "execution_count": 34,
   "metadata": {
    "ExecuteTime": {
     "end_time": "2019-09-25T03:12:42.786137Z",
     "start_time": "2019-09-25T03:12:42.782145Z"
    }
   },
   "outputs": [
    {
     "data": {
      "text/plain": [
       "0.8122125475641203"
      ]
     },
     "execution_count": 34,
     "metadata": {},
     "output_type": "execute_result"
    }
   ],
   "source": [
    "0.8122125475641203"
   ]
  },
  {
   "cell_type": "code",
   "execution_count": 35,
   "metadata": {
    "ExecuteTime": {
     "end_time": "2019-09-25T03:13:06.866741Z",
     "start_time": "2019-09-25T03:12:47.252191Z"
    }
   },
   "outputs": [
    {
     "data": {
      "text/plain": [
       "0.8111589669732492"
      ]
     },
     "execution_count": 35,
     "metadata": {},
     "output_type": "execute_result"
    }
   ],
   "source": [
    "y_pred_spanish = bayes_spanish_clf.predict(X_test_spanish.tail(X_test_spanish.shape[0]//2))\n",
    "balanced_accuracy_score(y_test_spanish.tail(X_test_spanish.shape[0]//2), y_pred_spanish)"
   ]
  },
  {
   "cell_type": "code",
   "execution_count": 36,
   "metadata": {
    "ExecuteTime": {
     "end_time": "2019-09-25T03:13:11.335811Z",
     "start_time": "2019-09-25T03:13:11.331797Z"
    }
   },
   "outputs": [
    {
     "data": {
      "text/plain": [
       "0.8120374590842147"
      ]
     },
     "execution_count": 36,
     "metadata": {},
     "output_type": "execute_result"
    }
   ],
   "source": [
    "0.8120374590842147"
   ]
  },
  {
   "cell_type": "code",
   "execution_count": 37,
   "metadata": {
    "ExecuteTime": {
     "end_time": "2019-09-25T03:13:15.965440Z",
     "start_time": "2019-09-25T03:13:15.781900Z"
    }
   },
   "outputs": [
    {
     "data": {
      "text/plain": [
       "1588"
      ]
     },
     "execution_count": 37,
     "metadata": {},
     "output_type": "execute_result"
    }
   ],
   "source": [
    "pd.Series(y_pred_spanish).nunique()"
   ]
  },
  {
   "cell_type": "markdown",
   "metadata": {},
   "source": [
    "## Logistic Regression"
   ]
  },
  {
   "cell_type": "code",
   "execution_count": 32,
   "metadata": {
    "ExecuteTime": {
     "end_time": "2019-09-20T14:04:06.904620Z",
     "start_time": "2019-09-20T14:04:06.900604Z"
    }
   },
   "outputs": [],
   "source": [
    "from sklearn.linear_model import LogisticRegression"
   ]
  },
  {
   "cell_type": "code",
   "execution_count": 33,
   "metadata": {
    "ExecuteTime": {
     "end_time": "2019-09-20T14:04:22.855404Z",
     "start_time": "2019-09-20T14:04:22.851416Z"
    }
   },
   "outputs": [],
   "source": [
    "lr_text_clf =  make_pipeline_imb([('TfidfVectorizer', TfidfVectorizer(encoding='latin-1',\n",
    "                                                               max_df=0.90,\n",
    "                                                               min_df=5,\n",
    "                                                               max_features=100000,\n",
    "                                                               #stop_words=list(spacy_stopwords),\n",
    "                                                              )),\n",
    "                                     ('SMOTE',SMOTE(random_state=42)),\n",
    "                                     ('LogisticRegression',  LogisticRegression())])"
   ]
  },
  {
   "cell_type": "code",
   "execution_count": 34,
   "metadata": {
    "ExecuteTime": {
     "end_time": "2019-09-20T18:33:31.958901Z",
     "start_time": "2019-09-20T14:04:39.255951Z"
    }
   },
   "outputs": [],
   "source": [
    "lr_clf=lr_text_clf.fit(X_train_spanish,y_train_spanish)"
   ]
  },
  {
   "cell_type": "code",
   "execution_count": 35,
   "metadata": {
    "ExecuteTime": {
     "end_time": "2019-09-20T18:33:48.152608Z",
     "start_time": "2019-09-20T18:33:47.942171Z"
    }
   },
   "outputs": [
    {
     "data": {
      "text/plain": [
       "1588"
      ]
     },
     "execution_count": 35,
     "metadata": {},
     "output_type": "execute_result"
    }
   ],
   "source": [
    "y_test_spanish.nunique()"
   ]
  },
  {
   "cell_type": "code",
   "execution_count": 36,
   "metadata": {
    "ExecuteTime": {
     "end_time": "2019-09-20T18:34:03.847972Z",
     "start_time": "2019-09-20T18:34:03.842983Z"
    }
   },
   "outputs": [
    {
     "data": {
      "text/plain": [
       "(1066605,)"
      ]
     },
     "execution_count": 36,
     "metadata": {},
     "output_type": "execute_result"
    }
   ],
   "source": [
    "X_test_spanish.shape"
   ]
  },
  {
   "cell_type": "code",
   "execution_count": 37,
   "metadata": {
    "ExecuteTime": {
     "end_time": "2019-09-20T18:34:35.065460Z",
     "start_time": "2019-09-20T18:34:19.665558Z"
    }
   },
   "outputs": [
    {
     "data": {
      "text/plain": [
       "0.829766210668563"
      ]
     },
     "execution_count": 37,
     "metadata": {},
     "output_type": "execute_result"
    }
   ],
   "source": [
    "y_pred_spanish = lr_clf.predict(X_test_spanish.head(X_test_spanish.shape[0]//2))\n",
    "balanced_accuracy_score(y_test_spanish.head(X_test_spanish.shape[0]//2), y_pred_spanish)"
   ]
  },
  {
   "cell_type": "code",
   "execution_count": 38,
   "metadata": {
    "ExecuteTime": {
     "end_time": "2019-09-20T18:35:06.116138Z",
     "start_time": "2019-09-20T18:34:50.957715Z"
    }
   },
   "outputs": [
    {
     "data": {
      "text/plain": [
       "0.8305113042086972"
      ]
     },
     "execution_count": 38,
     "metadata": {},
     "output_type": "execute_result"
    }
   ],
   "source": [
    "y_pred_spanish = lr_clf.predict(X_test_spanish.tail(X_test_spanish.shape[0]//2))\n",
    "balanced_accuracy_score(y_test_spanish.tail(X_test_spanish.shape[0]//2), y_pred_spanish)"
   ]
  },
  {
   "cell_type": "code",
   "execution_count": 39,
   "metadata": {
    "ExecuteTime": {
     "end_time": "2019-09-20T18:35:22.024971Z",
     "start_time": "2019-09-20T18:35:21.971114Z"
    }
   },
   "outputs": [
    {
     "data": {
      "text/plain": [
       "1588"
      ]
     },
     "execution_count": 39,
     "metadata": {},
     "output_type": "execute_result"
    }
   ],
   "source": [
    "pd.Series(y_pred_spanish).nunique()"
   ]
  },
  {
   "cell_type": "markdown",
   "metadata": {},
   "source": [
    "## SVM Linear CountVectorizer"
   ]
  },
  {
   "cell_type": "code",
   "execution_count": 24,
   "metadata": {
    "ExecuteTime": {
     "end_time": "2019-09-11T22:11:13.573430Z",
     "start_time": "2019-09-11T22:11:13.569438Z"
    }
   },
   "outputs": [],
   "source": [
    "from sklearn.svm import LinearSVC"
   ]
  },
  {
   "cell_type": "code",
   "execution_count": 24,
   "metadata": {
    "ExecuteTime": {
     "end_time": "2019-09-10T17:30:51.865709Z",
     "start_time": "2019-09-10T17:30:51.860722Z"
    }
   },
   "outputs": [],
   "source": [
    "LinearSVC_text_clf =  make_pipeline_imb([('CountVectorizer', CountVectorizer(encoding='latin-1',\n",
    "                                                               max_df=0.90,\n",
    "                                                               min_df=5,\n",
    "                                                               max_features=100000,\n",
    "                                                               #stop_words=list(spacy_stopwords),\n",
    "                                                              )),\n",
    "                                     #('SMOTE',SMOTE(random_state=42)),\n",
    "                                     ('LinearSVC',  LinearSVC())])"
   ]
  },
  {
   "cell_type": "code",
   "execution_count": 25,
   "metadata": {
    "ExecuteTime": {
     "end_time": "2019-09-10T19:25:01.699590Z",
     "start_time": "2019-09-10T17:30:54.274290Z"
    }
   },
   "outputs": [],
   "source": [
    "LinearSVC_spanish_clf=LinearSVC_text_clf.fit(X_train_spanish,y_train_spanish)"
   ]
  },
  {
   "cell_type": "code",
   "execution_count": 33,
   "metadata": {
    "ExecuteTime": {
     "end_time": "2019-09-10T14:42:12.321200Z",
     "start_time": "2019-09-10T14:42:12.075999Z"
    }
   },
   "outputs": [
    {
     "data": {
      "text/plain": [
       "1560"
      ]
     },
     "execution_count": 33,
     "metadata": {},
     "output_type": "execute_result"
    }
   ],
   "source": [
    "y_test_spanish.nunique()"
   ]
  },
  {
   "cell_type": "code",
   "execution_count": 28,
   "metadata": {
    "ExecuteTime": {
     "end_time": "2019-09-10T19:25:44.121391Z",
     "start_time": "2019-09-10T19:25:44.117417Z"
    }
   },
   "outputs": [
    {
     "data": {
      "text/plain": [
       "(1284403,)"
      ]
     },
     "execution_count": 28,
     "metadata": {},
     "output_type": "execute_result"
    }
   ],
   "source": [
    "X_test_spanish.shape"
   ]
  },
  {
   "cell_type": "code",
   "execution_count": 26,
   "metadata": {
    "ExecuteTime": {
     "end_time": "2019-09-10T19:25:22.147149Z",
     "start_time": "2019-09-10T19:25:03.957520Z"
    }
   },
   "outputs": [
    {
     "data": {
      "text/plain": [
       "0.8322812746417401"
      ]
     },
     "execution_count": 26,
     "metadata": {},
     "output_type": "execute_result"
    }
   ],
   "source": [
    "y_pred_spanish = LinearSVC_spanish_clf.predict(X_test_spanish.head(X_test_spanish.shape[0]//2))\n",
    "balanced_accuracy_score(y_test_spanish.head(X_test_spanish.shape[0]//2), y_pred_spanish)"
   ]
  },
  {
   "cell_type": "code",
   "execution_count": 27,
   "metadata": {
    "ExecuteTime": {
     "end_time": "2019-09-10T19:25:41.886375Z",
     "start_time": "2019-09-10T19:25:24.355237Z"
    }
   },
   "outputs": [
    {
     "data": {
      "text/plain": [
       "0.8331038702548689"
      ]
     },
     "execution_count": 27,
     "metadata": {},
     "output_type": "execute_result"
    }
   ],
   "source": [
    "y_pred_spanish = LinearSVC_spanish_clf.predict(X_test_spanish.tail(X_test_spanish.shape[0]//2))\n",
    "balanced_accuracy_score(y_test_spanish.tail(X_test_spanish.shape[0]//2), y_pred_spanish)"
   ]
  },
  {
   "cell_type": "code",
   "execution_count": 32,
   "metadata": {
    "ExecuteTime": {
     "end_time": "2019-09-10T14:41:58.438411Z",
     "start_time": "2019-09-10T14:41:58.236923Z"
    }
   },
   "outputs": [
    {
     "data": {
      "text/plain": [
       "1560"
      ]
     },
     "execution_count": 32,
     "metadata": {},
     "output_type": "execute_result"
    }
   ],
   "source": [
    "pd.Series(y_pred_spanish).nunique()"
   ]
  },
  {
   "cell_type": "markdown",
   "metadata": {},
   "source": [
    "## Vote Classifier"
   ]
  },
  {
   "cell_type": "code",
   "execution_count": null,
   "metadata": {
    "ExecuteTime": {
     "end_time": "2019-09-20T13:47:59.435707Z",
     "start_time": "2019-09-20T13:47:56.050Z"
    }
   },
   "outputs": [],
   "source": [
    "from sklearn.ensemble import VotingClassifier"
   ]
  },
  {
   "cell_type": "code",
   "execution_count": 30,
   "metadata": {
    "ExecuteTime": {
     "end_time": "2019-09-19T19:39:08.792574Z",
     "start_time": "2019-09-19T19:39:08.788543Z"
    }
   },
   "outputs": [],
   "source": [
    "LinearSVC_text_clf =  make_pipeline_imb([('TfidfVectorizer', TfidfVectorizer(encoding='latin-1',\n",
    "                                                               max_df=0.90,\n",
    "                                                               min_df=5,\n",
    "                                                               max_features=100000,\n",
    "                                                               #stop_words=list(spacy_stopwords),\n",
    "                                                              )),\n",
    "                                     ('SMOTE',SMOTE(random_state=42)),\n",
    "                                     ('LinearSVC',  LinearSVC())])"
   ]
  },
  {
   "cell_type": "code",
   "execution_count": 31,
   "metadata": {
    "ExecuteTime": {
     "end_time": "2019-09-19T19:39:20.237762Z",
     "start_time": "2019-09-19T19:39:20.233808Z"
    }
   },
   "outputs": [],
   "source": [
    "bayes_text_clf =  make_pipeline_imb([('CountVectorizer', CountVectorizer(encoding='latin-1',\n",
    "                                                               max_df=0.90,\n",
    "                                                               min_df=5,\n",
    "                                                               max_features=100000,\n",
    "                                                               #stop_words=list(spacy_stopwords),\n",
    "                                                              )),\n",
    "                                     ('SMOTE',SMOTE(random_state=42)),\n",
    "                                     ('MultinomialNB',  MultinomialNB())])"
   ]
  },
  {
   "cell_type": "code",
   "execution_count": 32,
   "metadata": {
    "ExecuteTime": {
     "end_time": "2019-09-19T19:39:31.789106Z",
     "start_time": "2019-09-19T19:39:31.784969Z"
    }
   },
   "outputs": [],
   "source": [
    "classifiers = [\n",
    "    ('MNB', bayes_text_clf),\n",
    "    ('LinearSVC', LinearSVC_text_clf),\n",
    "    ]"
   ]
  },
  {
   "cell_type": "code",
   "execution_count": 33,
   "metadata": {
    "ExecuteTime": {
     "end_time": "2019-09-19T19:39:43.279374Z",
     "start_time": "2019-09-19T19:39:43.275386Z"
    }
   },
   "outputs": [],
   "source": [
    "voting_clf = VotingClassifier(classifiers, n_jobs=1)"
   ]
  },
  {
   "cell_type": "code",
   "execution_count": 34,
   "metadata": {
    "ExecuteTime": {
     "end_time": "2019-09-19T21:51:34.768957Z",
     "start_time": "2019-09-19T19:39:54.732967Z"
    }
   },
   "outputs": [],
   "source": [
    "voting_classifier=voting_clf.fit(X_train_spanish,y_train_spanish)"
   ]
  },
  {
   "cell_type": "code",
   "execution_count": 35,
   "metadata": {
    "ExecuteTime": {
     "end_time": "2019-09-19T21:51:46.574971Z",
     "start_time": "2019-09-19T21:51:46.358521Z"
    }
   },
   "outputs": [
    {
     "data": {
      "text/plain": [
       "1588"
      ]
     },
     "execution_count": 35,
     "metadata": {},
     "output_type": "execute_result"
    }
   ],
   "source": [
    "y_test_spanish.nunique()"
   ]
  },
  {
   "cell_type": "code",
   "execution_count": 36,
   "metadata": {
    "ExecuteTime": {
     "end_time": "2019-09-19T21:51:58.179011Z",
     "start_time": "2019-09-19T21:51:58.174025Z"
    }
   },
   "outputs": [
    {
     "data": {
      "text/plain": [
       "(1066605,)"
      ]
     },
     "execution_count": 36,
     "metadata": {},
     "output_type": "execute_result"
    }
   ],
   "source": [
    "X_test_spanish.shape"
   ]
  },
  {
   "cell_type": "code",
   "execution_count": 37,
   "metadata": {
    "ExecuteTime": {
     "end_time": "2019-09-19T21:52:40.471928Z",
     "start_time": "2019-09-19T21:52:09.534087Z"
    }
   },
   "outputs": [
    {
     "data": {
      "text/plain": [
       "0.8250369244174595"
      ]
     },
     "execution_count": 37,
     "metadata": {},
     "output_type": "execute_result"
    }
   ],
   "source": [
    "y_pred_spanish = voting_classifier.predict(X_test_spanish.head(X_test_spanish.shape[0]//2))\n",
    "balanced_accuracy_score(y_test_spanish.head(X_test_spanish.shape[0]//2), y_pred_spanish)"
   ]
  },
  {
   "cell_type": "code",
   "execution_count": 38,
   "metadata": {
    "ExecuteTime": {
     "end_time": "2019-09-19T21:53:22.923196Z",
     "start_time": "2019-09-19T21:52:51.960244Z"
    }
   },
   "outputs": [
    {
     "data": {
      "text/plain": [
       "0.8254938875574751"
      ]
     },
     "execution_count": 38,
     "metadata": {},
     "output_type": "execute_result"
    }
   ],
   "source": [
    "y_pred_spanish = voting_classifier.predict(X_test_spanish.tail(X_test_spanish.shape[0]//2))\n",
    "balanced_accuracy_score(y_test_spanish.tail(X_test_spanish.shape[0]//2), y_pred_spanish)"
   ]
  },
  {
   "cell_type": "code",
   "execution_count": 39,
   "metadata": {
    "ExecuteTime": {
     "end_time": "2019-09-19T21:53:34.367771Z",
     "start_time": "2019-09-19T21:53:34.314913Z"
    }
   },
   "outputs": [
    {
     "data": {
      "text/plain": [
       "1588"
      ]
     },
     "execution_count": 39,
     "metadata": {},
     "output_type": "execute_result"
    }
   ],
   "source": [
    "pd.Series(y_pred_spanish).nunique()"
   ]
  },
  {
   "cell_type": "markdown",
   "metadata": {},
   "source": [
    "## SVM Linear TfidfVectorizer SMOTE"
   ]
  },
  {
   "cell_type": "code",
   "execution_count": 29,
   "metadata": {
    "ExecuteTime": {
     "end_time": "2019-09-25T03:25:29.614434Z",
     "start_time": "2019-09-25T03:25:29.609414Z"
    }
   },
   "outputs": [],
   "source": [
    "LinearSVC_text_clf =  make_pipeline_imb([('TfidfVectorizer', TfidfVectorizer(encoding='latin-1',\n",
    "                                                               max_df=0.90,\n",
    "                                                               min_df=5,\n",
    "                                                               max_features=150000,\n",
    "                                                               #stop_words=list(spacy_stopwords),\n",
    "                                                              )),\n",
    "                                     ('SMOTE',SMOTE(random_state=42)),\n",
    "                                     ('LinearSVC',  LinearSVC())])"
   ]
  },
  {
   "cell_type": "code",
   "execution_count": 30,
   "metadata": {
    "ExecuteTime": {
     "end_time": "2019-09-25T08:04:30.055266Z",
     "start_time": "2019-09-25T03:25:36.470067Z"
    }
   },
   "outputs": [],
   "source": [
    "LinearSVC_spanish_clf=LinearSVC_text_clf.fit(X_train_spanish,y_train_spanish)"
   ]
  },
  {
   "cell_type": "code",
   "execution_count": 31,
   "metadata": {
    "ExecuteTime": {
     "end_time": "2019-09-25T08:04:36.980714Z",
     "start_time": "2019-09-25T08:04:36.732379Z"
    }
   },
   "outputs": [
    {
     "data": {
      "text/plain": [
       "1588"
      ]
     },
     "execution_count": 31,
     "metadata": {},
     "output_type": "execute_result"
    }
   ],
   "source": [
    "y_test_spanish.nunique()"
   ]
  },
  {
   "cell_type": "code",
   "execution_count": 32,
   "metadata": {
    "ExecuteTime": {
     "end_time": "2019-09-25T08:04:43.658856Z",
     "start_time": "2019-09-25T08:04:43.654867Z"
    }
   },
   "outputs": [
    {
     "data": {
      "text/plain": [
       "(1360713,)"
      ]
     },
     "execution_count": 32,
     "metadata": {},
     "output_type": "execute_result"
    }
   ],
   "source": [
    "X_test_spanish.shape"
   ]
  },
  {
   "cell_type": "code",
   "execution_count": 33,
   "metadata": {
    "ExecuteTime": {
     "end_time": "2019-09-25T08:05:10.057509Z",
     "start_time": "2019-09-25T08:04:50.488840Z"
    }
   },
   "outputs": [
    {
     "data": {
      "text/plain": [
       "0.8528419605987269"
      ]
     },
     "execution_count": 33,
     "metadata": {},
     "output_type": "execute_result"
    }
   ],
   "source": [
    "y_pred_spanish = LinearSVC_spanish_clf.predict(X_test_spanish.head(X_test_spanish.shape[0]//2))\n",
    "balanced_accuracy_score(y_test_spanish.head(X_test_spanish.shape[0]//2), y_pred_spanish)"
   ]
  },
  {
   "cell_type": "code",
   "execution_count": 34,
   "metadata": {
    "ExecuteTime": {
     "end_time": "2019-09-25T08:05:16.745387Z",
     "start_time": "2019-09-25T08:05:16.742370Z"
    }
   },
   "outputs": [
    {
     "data": {
      "text/plain": [
       "0.849095812843259"
      ]
     },
     "execution_count": 34,
     "metadata": {},
     "output_type": "execute_result"
    }
   ],
   "source": [
    "0.849095812843259"
   ]
  },
  {
   "cell_type": "code",
   "execution_count": 35,
   "metadata": {
    "ExecuteTime": {
     "end_time": "2019-09-25T08:05:42.893426Z",
     "start_time": "2019-09-25T08:05:23.427495Z"
    }
   },
   "outputs": [
    {
     "data": {
      "text/plain": [
       "0.8524735164411547"
      ]
     },
     "execution_count": 35,
     "metadata": {},
     "output_type": "execute_result"
    }
   ],
   "source": [
    "y_pred_spanish = LinearSVC_spanish_clf.predict(X_test_spanish.tail(X_test_spanish.shape[0]//2))\n",
    "balanced_accuracy_score(y_test_spanish.tail(X_test_spanish.shape[0]//2), y_pred_spanish)"
   ]
  },
  {
   "cell_type": "code",
   "execution_count": 36,
   "metadata": {
    "ExecuteTime": {
     "end_time": "2019-09-25T08:05:49.696701Z",
     "start_time": "2019-09-25T08:05:49.692685Z"
    }
   },
   "outputs": [
    {
     "data": {
      "text/plain": [
       "0.8495081207374371"
      ]
     },
     "execution_count": 36,
     "metadata": {},
     "output_type": "execute_result"
    }
   ],
   "source": [
    "0.8495081207374371"
   ]
  },
  {
   "cell_type": "code",
   "execution_count": 37,
   "metadata": {
    "ExecuteTime": {
     "end_time": "2019-09-25T08:05:56.466606Z",
     "start_time": "2019-09-25T08:05:56.401735Z"
    }
   },
   "outputs": [
    {
     "data": {
      "text/plain": [
       "1588"
      ]
     },
     "execution_count": 37,
     "metadata": {},
     "output_type": "execute_result"
    }
   ],
   "source": [
    "pd.Series(y_pred_spanish).nunique()"
   ]
  },
  {
   "cell_type": "markdown",
   "metadata": {},
   "source": [
    "## Save Model"
   ]
  },
  {
   "cell_type": "code",
   "execution_count": 38,
   "metadata": {
    "ExecuteTime": {
     "end_time": "2019-09-25T09:25:47.356722Z",
     "start_time": "2019-09-25T09:25:47.353695Z"
    }
   },
   "outputs": [],
   "source": [
    "import pickle"
   ]
  },
  {
   "cell_type": "code",
   "execution_count": 40,
   "metadata": {
    "ExecuteTime": {
     "end_time": "2019-09-25T09:27:07.695626Z",
     "start_time": "2019-09-25T09:27:01.042135Z"
    }
   },
   "outputs": [],
   "source": [
    "filename = 'LinearSVC_tfidf_SMOTE_spanish_clf.sav'\n",
    "pickle.dump(LinearSVC_spanish_clf, open(filename, 'wb'))"
   ]
  },
  {
   "cell_type": "markdown",
   "metadata": {},
   "source": [
    "# FastAI"
   ]
  },
  {
   "cell_type": "code",
   "execution_count": null,
   "metadata": {},
   "outputs": [],
   "source": []
  },
  {
   "cell_type": "code",
   "execution_count": null,
   "metadata": {},
   "outputs": [],
   "source": []
  }
 ],
 "metadata": {
  "kernelspec": {
   "display_name": "Python 3",
   "language": "python",
   "name": "python3"
  },
  "language_info": {
   "codemirror_mode": {
    "name": "ipython",
    "version": 3
   },
   "file_extension": ".py",
   "mimetype": "text/x-python",
   "name": "python",
   "nbconvert_exporter": "python",
   "pygments_lexer": "ipython3",
   "version": "3.6.5"
  },
  "toc": {
   "base_numbering": 1,
   "nav_menu": {},
   "number_sections": true,
   "sideBar": true,
   "skip_h1_title": false,
   "title_cell": "Table of Contents",
   "title_sidebar": "Contents",
   "toc_cell": false,
   "toc_position": {
    "height": "calc(100% - 180px)",
    "left": "10px",
    "top": "150px",
    "width": "257.932px"
   },
   "toc_section_display": true,
   "toc_window_display": true
  },
  "varInspector": {
   "cols": {
    "lenName": 16,
    "lenType": 16,
    "lenVar": 40
   },
   "kernels_config": {
    "python": {
     "delete_cmd_postfix": "",
     "delete_cmd_prefix": "del ",
     "library": "var_list.py",
     "varRefreshCmd": "print(var_dic_list())"
    },
    "r": {
     "delete_cmd_postfix": ") ",
     "delete_cmd_prefix": "rm(",
     "library": "var_list.r",
     "varRefreshCmd": "cat(var_dic_list()) "
    }
   },
   "types_to_exclude": [
    "module",
    "function",
    "builtin_function_or_method",
    "instance",
    "_Feature"
   ],
   "window_display": false
  }
 },
 "nbformat": 4,
 "nbformat_minor": 2
}
