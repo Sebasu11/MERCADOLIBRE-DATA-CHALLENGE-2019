{
 "cells": [
  {
   "cell_type": "markdown",
   "metadata": {},
   "source": [
    "# Submit"
   ]
  },
  {
   "cell_type": "code",
   "execution_count": 1,
   "metadata": {
    "ExecuteTime": {
     "end_time": "2019-09-26T13:32:00.231838Z",
     "start_time": "2019-09-26T13:31:58.475013Z"
    }
   },
   "outputs": [],
   "source": [
    "import pickle\n",
    "import warnings\n",
    "import pandas as pd\n",
    "import unicodedata\n",
    "import re\n",
    "warnings.filterwarnings('ignore')"
   ]
  },
  {
   "cell_type": "code",
   "execution_count": 2,
   "metadata": {
    "ExecuteTime": {
     "end_time": "2019-09-26T13:32:00.235374Z",
     "start_time": "2019-09-26T13:32:00.231838Z"
    }
   },
   "outputs": [],
   "source": [
    "#nlp = spacy.load('es_core_news_sm')\n",
    "#nlp = spacy.load('pt_core_news_sm')"
   ]
  },
  {
   "cell_type": "code",
   "execution_count": 3,
   "metadata": {
    "ExecuteTime": {
     "end_time": "2019-09-26T13:32:14.655563Z",
     "start_time": "2019-09-26T13:32:00.237366Z"
    }
   },
   "outputs": [],
   "source": [
    "# Para cargar el modelo\n",
    "spanish_clf_loaded_model = pickle.load(open('models/LinearSVC_tfidf_SMOTE_spanish_clf.sav', 'rb'))"
   ]
  },
  {
   "cell_type": "code",
   "execution_count": 4,
   "metadata": {
    "ExecuteTime": {
     "end_time": "2019-09-26T13:32:15.345328Z",
     "start_time": "2019-09-26T13:32:14.658077Z"
    }
   },
   "outputs": [],
   "source": [
    "# Para cargar el modelo\n",
    "portuguese_clf_loaded_model = pickle.load(open('models/LinearSVC_tfidf_SMOTE_portuguese_clf.sav', 'rb'))"
   ]
  },
  {
   "cell_type": "code",
   "execution_count": 5,
   "metadata": {
    "ExecuteTime": {
     "end_time": "2019-09-26T13:32:15.353427Z",
     "start_time": "2019-09-26T13:32:15.345328Z"
    }
   },
   "outputs": [],
   "source": [
    "def clean_text(text) :\n",
    "    text=unicodedata.normalize('NFKD', str(text)).encode('ascii', errors='ignore').decode('utf-8')\\\n",
    "    .lower().replace(r'\\\\n','').replace(r'-',' ').replace(r'.','').strip()\n",
    "    text = re.sub(\"[^a-zA-Z]\", \" \", str(text))\n",
    "    return \" \".join(text.split())"
   ]
  },
  {
   "cell_type": "code",
   "execution_count": 6,
   "metadata": {
    "ExecuteTime": {
     "end_time": "2019-09-26T13:32:15.787620Z",
     "start_time": "2019-09-26T13:32:15.356414Z"
    }
   },
   "outputs": [],
   "source": [
    "df_test=pd.read_csv('data/test.csv')"
   ]
  },
  {
   "cell_type": "code",
   "execution_count": 7,
   "metadata": {
    "ExecuteTime": {
     "end_time": "2019-09-26T13:32:15.824466Z",
     "start_time": "2019-09-26T13:32:15.789612Z"
    }
   },
   "outputs": [
    {
     "data": {
      "text/html": [
       "<div>\n",
       "<style scoped>\n",
       "    .dataframe tbody tr th:only-of-type {\n",
       "        vertical-align: middle;\n",
       "    }\n",
       "\n",
       "    .dataframe tbody tr th {\n",
       "        vertical-align: top;\n",
       "    }\n",
       "\n",
       "    .dataframe thead th {\n",
       "        text-align: right;\n",
       "    }\n",
       "</style>\n",
       "<table border=\"1\" class=\"dataframe\">\n",
       "  <thead>\n",
       "    <tr style=\"text-align: right;\">\n",
       "      <th></th>\n",
       "      <th>id</th>\n",
       "      <th>title</th>\n",
       "      <th>language</th>\n",
       "    </tr>\n",
       "  </thead>\n",
       "  <tbody>\n",
       "    <tr>\n",
       "      <td>0</td>\n",
       "      <td>0</td>\n",
       "      <td>Kit Maternidade Bolsa-mala Baby/bebe Vinho Men...</td>\n",
       "      <td>portuguese</td>\n",
       "    </tr>\n",
       "    <tr>\n",
       "      <td>1</td>\n",
       "      <td>1</td>\n",
       "      <td>Trocador De Fraldas Fisher Price Feminino Rosa...</td>\n",
       "      <td>portuguese</td>\n",
       "    </tr>\n",
       "    <tr>\n",
       "      <td>2</td>\n",
       "      <td>2</td>\n",
       "      <td>Motor Ventoinha - Fiat Idea / Palio 1.8 - A 04...</td>\n",
       "      <td>portuguese</td>\n",
       "    </tr>\n",
       "    <tr>\n",
       "      <td>3</td>\n",
       "      <td>3</td>\n",
       "      <td>Amortecedor Mola Batente D Dir New Civic 14 - ...</td>\n",
       "      <td>portuguese</td>\n",
       "    </tr>\n",
       "    <tr>\n",
       "      <td>4</td>\n",
       "      <td>4</td>\n",
       "      <td>Cadeirinha De Carro Bebê Princesa Princess 9 A...</td>\n",
       "      <td>portuguese</td>\n",
       "    </tr>\n",
       "  </tbody>\n",
       "</table>\n",
       "</div>"
      ],
      "text/plain": [
       "   id                                              title    language\n",
       "0   0  Kit Maternidade Bolsa-mala Baby/bebe Vinho Men...  portuguese\n",
       "1   1  Trocador De Fraldas Fisher Price Feminino Rosa...  portuguese\n",
       "2   2  Motor Ventoinha - Fiat Idea / Palio 1.8 - A 04...  portuguese\n",
       "3   3  Amortecedor Mola Batente D Dir New Civic 14 - ...  portuguese\n",
       "4   4  Cadeirinha De Carro Bebê Princesa Princess 9 A...  portuguese"
      ]
     },
     "execution_count": 7,
     "metadata": {},
     "output_type": "execute_result"
    }
   ],
   "source": [
    "df_test.head()"
   ]
  },
  {
   "cell_type": "code",
   "execution_count": 8,
   "metadata": {
    "ExecuteTime": {
     "end_time": "2019-09-26T13:32:15.833430Z",
     "start_time": "2019-09-26T13:32:15.828450Z"
    }
   },
   "outputs": [
    {
     "data": {
      "text/plain": [
       "(246955, 3)"
      ]
     },
     "execution_count": 8,
     "metadata": {},
     "output_type": "execute_result"
    }
   ],
   "source": [
    "df_test.shape"
   ]
  },
  {
   "cell_type": "code",
   "execution_count": 9,
   "metadata": {
    "ExecuteTime": {
     "end_time": "2019-09-26T13:32:16.203888Z",
     "start_time": "2019-09-26T13:32:15.839404Z"
    }
   },
   "outputs": [
    {
     "name": "stdout",
     "output_type": "stream",
     "text": [
      "spanish       0.506112\n",
      "portuguese    0.493888\n",
      "Name: language, dtype: float64\n",
      "---------------\n",
      "spanish       124987\n",
      "portuguese    121968\n",
      "Name: language, dtype: int64\n"
     ]
    }
   ],
   "source": [
    "print(df_test['language'].value_counts(normalize=True))\n",
    "print('---------------')\n",
    "print(df_test['language'].value_counts())"
   ]
  },
  {
   "cell_type": "code",
   "execution_count": 10,
   "metadata": {
    "ExecuteTime": {
     "end_time": "2019-09-26T13:32:16.867659Z",
     "start_time": "2019-09-26T13:32:16.206876Z"
    }
   },
   "outputs": [],
   "source": [
    "df_pred_spanish=df_test[df_test['language']=='spanish']\n",
    "df_pred_spanish['title']=df_pred_spanish['title'].apply(clean_text)"
   ]
  },
  {
   "cell_type": "code",
   "execution_count": 11,
   "metadata": {
    "ExecuteTime": {
     "end_time": "2019-09-26T13:32:20.069035Z",
     "start_time": "2019-09-26T13:32:16.868601Z"
    }
   },
   "outputs": [],
   "source": [
    "submit_spanish=spanish_clf_loaded_model.predict(df_pred_spanish['title'])"
   ]
  },
  {
   "cell_type": "code",
   "execution_count": 12,
   "metadata": {
    "ExecuteTime": {
     "end_time": "2019-09-26T13:32:20.077008Z",
     "start_time": "2019-09-26T13:32:20.069035Z"
    }
   },
   "outputs": [],
   "source": [
    "df_pred_spanish['category']=submit_spanish"
   ]
  },
  {
   "cell_type": "code",
   "execution_count": 13,
   "metadata": {
    "ExecuteTime": {
     "end_time": "2019-09-26T13:32:20.824045Z",
     "start_time": "2019-09-26T13:32:20.078999Z"
    }
   },
   "outputs": [],
   "source": [
    "df_pred_portuguese=df_test[df_test['language']=='portuguese']\n",
    "df_pred_portuguese['title']=df_pred_portuguese['title'].apply(clean_text)"
   ]
  },
  {
   "cell_type": "code",
   "execution_count": 14,
   "metadata": {
    "ExecuteTime": {
     "end_time": "2019-09-26T13:32:24.077711Z",
     "start_time": "2019-09-26T13:32:20.826048Z"
    }
   },
   "outputs": [],
   "source": [
    "submit_portuguese=portuguese_clf_loaded_model.predict(df_pred_portuguese['title'])"
   ]
  },
  {
   "cell_type": "code",
   "execution_count": 15,
   "metadata": {
    "ExecuteTime": {
     "end_time": "2019-09-26T13:32:24.084699Z",
     "start_time": "2019-09-26T13:32:24.079714Z"
    }
   },
   "outputs": [],
   "source": [
    "df_pred_portuguese['category']=submit_portuguese"
   ]
  },
  {
   "cell_type": "code",
   "execution_count": 16,
   "metadata": {
    "ExecuteTime": {
     "end_time": "2019-09-26T13:32:24.117546Z",
     "start_time": "2019-09-26T13:32:24.087670Z"
    }
   },
   "outputs": [],
   "source": [
    "df_submit = pd.concat([df_pred_spanish, df_pred_portuguese])"
   ]
  },
  {
   "cell_type": "code",
   "execution_count": 17,
   "metadata": {
    "ExecuteTime": {
     "end_time": "2019-09-26T13:32:24.147424Z",
     "start_time": "2019-09-26T13:32:24.118541Z"
    }
   },
   "outputs": [],
   "source": [
    "df_submit.sort_values('id',inplace=True)"
   ]
  },
  {
   "cell_type": "code",
   "execution_count": 18,
   "metadata": {
    "ExecuteTime": {
     "end_time": "2019-09-26T13:32:24.155388Z",
     "start_time": "2019-09-26T13:32:24.148417Z"
    }
   },
   "outputs": [
    {
     "data": {
      "text/html": [
       "<div>\n",
       "<style scoped>\n",
       "    .dataframe tbody tr th:only-of-type {\n",
       "        vertical-align: middle;\n",
       "    }\n",
       "\n",
       "    .dataframe tbody tr th {\n",
       "        vertical-align: top;\n",
       "    }\n",
       "\n",
       "    .dataframe thead th {\n",
       "        text-align: right;\n",
       "    }\n",
       "</style>\n",
       "<table border=\"1\" class=\"dataframe\">\n",
       "  <thead>\n",
       "    <tr style=\"text-align: right;\">\n",
       "      <th></th>\n",
       "      <th>id</th>\n",
       "      <th>title</th>\n",
       "      <th>language</th>\n",
       "      <th>category</th>\n",
       "    </tr>\n",
       "  </thead>\n",
       "  <tbody>\n",
       "    <tr>\n",
       "      <td>0</td>\n",
       "      <td>0</td>\n",
       "      <td>kit maternidade bolsa mala baby bebe vinho men...</td>\n",
       "      <td>portuguese</td>\n",
       "      <td>DIAPER_BAGS</td>\n",
       "    </tr>\n",
       "    <tr>\n",
       "      <td>1</td>\n",
       "      <td>1</td>\n",
       "      <td>trocador de fraldas fisher price feminino rosa...</td>\n",
       "      <td>portuguese</td>\n",
       "      <td>BABY_CHANGING_PADS</td>\n",
       "    </tr>\n",
       "    <tr>\n",
       "      <td>2</td>\n",
       "      <td>2</td>\n",
       "      <td>motor ventoinha fiat idea palio a k</td>\n",
       "      <td>portuguese</td>\n",
       "      <td>ENGINE_COOLING_FAN_MOTORS</td>\n",
       "    </tr>\n",
       "    <tr>\n",
       "      <td>3</td>\n",
       "      <td>3</td>\n",
       "      <td>amortecedor mola batente d dir new civic k</td>\n",
       "      <td>portuguese</td>\n",
       "      <td>AUTOMOTIVE_SHOCK_ABSORBER_BUMP_STOPS</td>\n",
       "    </tr>\n",
       "    <tr>\n",
       "      <td>4</td>\n",
       "      <td>4</td>\n",
       "      <td>cadeirinha de carro bebe princesa princess a kgs</td>\n",
       "      <td>portuguese</td>\n",
       "      <td>BABY_CAR_SEATS</td>\n",
       "    </tr>\n",
       "  </tbody>\n",
       "</table>\n",
       "</div>"
      ],
      "text/plain": [
       "   id                                              title    language  \\\n",
       "0   0  kit maternidade bolsa mala baby bebe vinho men...  portuguese   \n",
       "1   1  trocador de fraldas fisher price feminino rosa...  portuguese   \n",
       "2   2                motor ventoinha fiat idea palio a k  portuguese   \n",
       "3   3         amortecedor mola batente d dir new civic k  portuguese   \n",
       "4   4   cadeirinha de carro bebe princesa princess a kgs  portuguese   \n",
       "\n",
       "                               category  \n",
       "0                           DIAPER_BAGS  \n",
       "1                    BABY_CHANGING_PADS  \n",
       "2             ENGINE_COOLING_FAN_MOTORS  \n",
       "3  AUTOMOTIVE_SHOCK_ABSORBER_BUMP_STOPS  \n",
       "4                        BABY_CAR_SEATS  "
      ]
     },
     "execution_count": 18,
     "metadata": {},
     "output_type": "execute_result"
    }
   ],
   "source": [
    "df_submit.head()"
   ]
  },
  {
   "cell_type": "code",
   "execution_count": 19,
   "metadata": {
    "ExecuteTime": {
     "end_time": "2019-09-26T13:32:24.173314Z",
     "start_time": "2019-09-26T13:32:24.157381Z"
    }
   },
   "outputs": [
    {
     "data": {
      "text/html": [
       "<div>\n",
       "<style scoped>\n",
       "    .dataframe tbody tr th:only-of-type {\n",
       "        vertical-align: middle;\n",
       "    }\n",
       "\n",
       "    .dataframe tbody tr th {\n",
       "        vertical-align: top;\n",
       "    }\n",
       "\n",
       "    .dataframe thead th {\n",
       "        text-align: right;\n",
       "    }\n",
       "</style>\n",
       "<table border=\"1\" class=\"dataframe\">\n",
       "  <thead>\n",
       "    <tr style=\"text-align: right;\">\n",
       "      <th></th>\n",
       "      <th>id</th>\n",
       "      <th>title</th>\n",
       "      <th>language</th>\n",
       "      <th>category</th>\n",
       "    </tr>\n",
       "  </thead>\n",
       "  <tbody>\n",
       "    <tr>\n",
       "      <td>0</td>\n",
       "      <td>0</td>\n",
       "      <td>kit maternidade bolsa mala baby bebe vinho men...</td>\n",
       "      <td>portuguese</td>\n",
       "      <td>DIAPER_BAGS</td>\n",
       "    </tr>\n",
       "    <tr>\n",
       "      <td>1</td>\n",
       "      <td>1</td>\n",
       "      <td>trocador de fraldas fisher price feminino rosa...</td>\n",
       "      <td>portuguese</td>\n",
       "      <td>BABY_CHANGING_PADS</td>\n",
       "    </tr>\n",
       "    <tr>\n",
       "      <td>2</td>\n",
       "      <td>2</td>\n",
       "      <td>motor ventoinha fiat idea palio a k</td>\n",
       "      <td>portuguese</td>\n",
       "      <td>ENGINE_COOLING_FAN_MOTORS</td>\n",
       "    </tr>\n",
       "    <tr>\n",
       "      <td>3</td>\n",
       "      <td>3</td>\n",
       "      <td>amortecedor mola batente d dir new civic k</td>\n",
       "      <td>portuguese</td>\n",
       "      <td>AUTOMOTIVE_SHOCK_ABSORBER_BUMP_STOPS</td>\n",
       "    </tr>\n",
       "    <tr>\n",
       "      <td>4</td>\n",
       "      <td>4</td>\n",
       "      <td>cadeirinha de carro bebe princesa princess a kgs</td>\n",
       "      <td>portuguese</td>\n",
       "      <td>BABY_CAR_SEATS</td>\n",
       "    </tr>\n",
       "    <tr>\n",
       "      <td>5</td>\n",
       "      <td>5</td>\n",
       "      <td>cabo freio mao tras direito vw up cod s e j</td>\n",
       "      <td>portuguese</td>\n",
       "      <td>HAND_BRAKE_CABLES</td>\n",
       "    </tr>\n",
       "    <tr>\n",
       "      <td>6</td>\n",
       "      <td>6</td>\n",
       "      <td>mini pc dell optiplex fx atom gb ram ssd gb wifi</td>\n",
       "      <td>portuguese</td>\n",
       "      <td>MINI_PCS</td>\n",
       "    </tr>\n",
       "    <tr>\n",
       "      <td>7</td>\n",
       "      <td>7</td>\n",
       "      <td>kit bi xenon lampada h k</td>\n",
       "      <td>portuguese</td>\n",
       "      <td>XENON_KITS</td>\n",
       "    </tr>\n",
       "    <tr>\n",
       "      <td>8</td>\n",
       "      <td>8</td>\n",
       "      <td>protetor pe botinha kickboxing karate taekwond...</td>\n",
       "      <td>portuguese</td>\n",
       "      <td>MARTIAL_ARTS_FOOT_GUARDS</td>\n",
       "    </tr>\n",
       "    <tr>\n",
       "      <td>9</td>\n",
       "      <td>9</td>\n",
       "      <td>disco rigido externo western digital elements ...</td>\n",
       "      <td>spanish</td>\n",
       "      <td>HARD_DRIVES_AND_SSDS</td>\n",
       "    </tr>\n",
       "  </tbody>\n",
       "</table>\n",
       "</div>"
      ],
      "text/plain": [
       "   id                                              title    language  \\\n",
       "0   0  kit maternidade bolsa mala baby bebe vinho men...  portuguese   \n",
       "1   1  trocador de fraldas fisher price feminino rosa...  portuguese   \n",
       "2   2                motor ventoinha fiat idea palio a k  portuguese   \n",
       "3   3         amortecedor mola batente d dir new civic k  portuguese   \n",
       "4   4   cadeirinha de carro bebe princesa princess a kgs  portuguese   \n",
       "5   5        cabo freio mao tras direito vw up cod s e j  portuguese   \n",
       "6   6   mini pc dell optiplex fx atom gb ram ssd gb wifi  portuguese   \n",
       "7   7                           kit bi xenon lampada h k  portuguese   \n",
       "8   8  protetor pe botinha kickboxing karate taekwond...  portuguese   \n",
       "9   9  disco rigido externo western digital elements ...     spanish   \n",
       "\n",
       "                               category  \n",
       "0                           DIAPER_BAGS  \n",
       "1                    BABY_CHANGING_PADS  \n",
       "2             ENGINE_COOLING_FAN_MOTORS  \n",
       "3  AUTOMOTIVE_SHOCK_ABSORBER_BUMP_STOPS  \n",
       "4                        BABY_CAR_SEATS  \n",
       "5                     HAND_BRAKE_CABLES  \n",
       "6                              MINI_PCS  \n",
       "7                            XENON_KITS  \n",
       "8              MARTIAL_ARTS_FOOT_GUARDS  \n",
       "9                  HARD_DRIVES_AND_SSDS  "
      ]
     },
     "execution_count": 19,
     "metadata": {},
     "output_type": "execute_result"
    }
   ],
   "source": [
    "df_submit[['id','title','language','category']].head(10)"
   ]
  },
  {
   "cell_type": "code",
   "execution_count": 20,
   "metadata": {
    "ExecuteTime": {
     "end_time": "2019-09-26T13:32:24.191239Z",
     "start_time": "2019-09-26T13:32:24.174310Z"
    }
   },
   "outputs": [
    {
     "data": {
      "text/html": [
       "<div>\n",
       "<style scoped>\n",
       "    .dataframe tbody tr th:only-of-type {\n",
       "        vertical-align: middle;\n",
       "    }\n",
       "\n",
       "    .dataframe tbody tr th {\n",
       "        vertical-align: top;\n",
       "    }\n",
       "\n",
       "    .dataframe thead th {\n",
       "        text-align: right;\n",
       "    }\n",
       "</style>\n",
       "<table border=\"1\" class=\"dataframe\">\n",
       "  <thead>\n",
       "    <tr style=\"text-align: right;\">\n",
       "      <th></th>\n",
       "      <th>id</th>\n",
       "      <th>title</th>\n",
       "      <th>language</th>\n",
       "      <th>category</th>\n",
       "    </tr>\n",
       "  </thead>\n",
       "  <tbody>\n",
       "    <tr>\n",
       "      <td>246945</td>\n",
       "      <td>246945</td>\n",
       "      <td>aplique acab soleira esq outlander r</td>\n",
       "      <td>portuguese</td>\n",
       "      <td>AUTOMOTIVE_BUMPER_GRILLES</td>\n",
       "    </tr>\n",
       "    <tr>\n",
       "      <td>246946</td>\n",
       "      <td>246946</td>\n",
       "      <td>set x repuesto para canasta de inodoro liquida cc</td>\n",
       "      <td>spanish</td>\n",
       "      <td>TOILET_BRUSHES</td>\n",
       "    </tr>\n",
       "    <tr>\n",
       "      <td>246947</td>\n",
       "      <td>246947</td>\n",
       "      <td>chaleco c patente digitos y calcos p casco mot...</td>\n",
       "      <td>spanish</td>\n",
       "      <td>REFLECTIVE_VESTS</td>\n",
       "    </tr>\n",
       "    <tr>\n",
       "      <td>246948</td>\n",
       "      <td>246948</td>\n",
       "      <td>farol mascara negra astra foco duplo</td>\n",
       "      <td>portuguese</td>\n",
       "      <td>AUTOMOTIVE_HEADLIGHTS</td>\n",
       "    </tr>\n",
       "    <tr>\n",
       "      <td>246949</td>\n",
       "      <td>246949</td>\n",
       "      <td>polea de goma expansible aluminio p amoladora ...</td>\n",
       "      <td>spanish</td>\n",
       "      <td>INDUSTRIAL_PULLEYS</td>\n",
       "    </tr>\n",
       "    <tr>\n",
       "      <td>246950</td>\n",
       "      <td>246950</td>\n",
       "      <td>disco freno delantero ford escort nuevo</td>\n",
       "      <td>spanish</td>\n",
       "      <td>VEHICLE_BRAKE_DISCS</td>\n",
       "    </tr>\n",
       "    <tr>\n",
       "      <td>246951</td>\n",
       "      <td>246951</td>\n",
       "      <td>radio comunicador walk talk baofeng s profissi...</td>\n",
       "      <td>portuguese</td>\n",
       "      <td>WALKIE_TALKIES</td>\n",
       "    </tr>\n",
       "    <tr>\n",
       "      <td>246952</td>\n",
       "      <td>246952</td>\n",
       "      <td>calculadora de escritorio grande</td>\n",
       "      <td>spanish</td>\n",
       "      <td>CALCULATORS</td>\n",
       "    </tr>\n",
       "    <tr>\n",
       "      <td>246953</td>\n",
       "      <td>246953</td>\n",
       "      <td>conj mesa p sala de jantar c cadeiras amsterda...</td>\n",
       "      <td>portuguese</td>\n",
       "      <td>DINING_SETS</td>\n",
       "    </tr>\n",
       "    <tr>\n",
       "      <td>246954</td>\n",
       "      <td>246954</td>\n",
       "      <td>cesto residuos tacho basura automatico l l cuotas</td>\n",
       "      <td>spanish</td>\n",
       "      <td>WASTE_BASKETS</td>\n",
       "    </tr>\n",
       "  </tbody>\n",
       "</table>\n",
       "</div>"
      ],
      "text/plain": [
       "            id                                              title    language  \\\n",
       "246945  246945               aplique acab soleira esq outlander r  portuguese   \n",
       "246946  246946  set x repuesto para canasta de inodoro liquida cc     spanish   \n",
       "246947  246947  chaleco c patente digitos y calcos p casco mot...     spanish   \n",
       "246948  246948               farol mascara negra astra foco duplo  portuguese   \n",
       "246949  246949  polea de goma expansible aluminio p amoladora ...     spanish   \n",
       "246950  246950            disco freno delantero ford escort nuevo     spanish   \n",
       "246951  246951  radio comunicador walk talk baofeng s profissi...  portuguese   \n",
       "246952  246952                   calculadora de escritorio grande     spanish   \n",
       "246953  246953  conj mesa p sala de jantar c cadeiras amsterda...  portuguese   \n",
       "246954  246954  cesto residuos tacho basura automatico l l cuotas     spanish   \n",
       "\n",
       "                         category  \n",
       "246945  AUTOMOTIVE_BUMPER_GRILLES  \n",
       "246946             TOILET_BRUSHES  \n",
       "246947           REFLECTIVE_VESTS  \n",
       "246948      AUTOMOTIVE_HEADLIGHTS  \n",
       "246949         INDUSTRIAL_PULLEYS  \n",
       "246950        VEHICLE_BRAKE_DISCS  \n",
       "246951             WALKIE_TALKIES  \n",
       "246952                CALCULATORS  \n",
       "246953                DINING_SETS  \n",
       "246954              WASTE_BASKETS  "
      ]
     },
     "execution_count": 20,
     "metadata": {},
     "output_type": "execute_result"
    }
   ],
   "source": [
    "df_submit[['id','title','language','category']].tail(10)"
   ]
  },
  {
   "cell_type": "code",
   "execution_count": 21,
   "metadata": {
    "ExecuteTime": {
     "end_time": "2019-09-26T13:32:24.669283Z",
     "start_time": "2019-09-26T13:32:24.193232Z"
    }
   },
   "outputs": [],
   "source": [
    "df_submit[['id','category']].to_csv('submit/submit_9.csv',index=False)"
   ]
  }
 ],
 "metadata": {
  "kernelspec": {
   "display_name": "Python 3",
   "language": "python",
   "name": "python3"
  },
  "language_info": {
   "codemirror_mode": {
    "name": "ipython",
    "version": 3
   },
   "file_extension": ".py",
   "mimetype": "text/x-python",
   "name": "python",
   "nbconvert_exporter": "python",
   "pygments_lexer": "ipython3",
   "version": "3.6.5"
  },
  "toc": {
   "base_numbering": 1,
   "nav_menu": {},
   "number_sections": true,
   "sideBar": true,
   "skip_h1_title": false,
   "title_cell": "Table of Contents",
   "title_sidebar": "Contents",
   "toc_cell": false,
   "toc_position": {},
   "toc_section_display": true,
   "toc_window_display": false
  },
  "varInspector": {
   "cols": {
    "lenName": 16,
    "lenType": 16,
    "lenVar": 40
   },
   "kernels_config": {
    "python": {
     "delete_cmd_postfix": "",
     "delete_cmd_prefix": "del ",
     "library": "var_list.py",
     "varRefreshCmd": "print(var_dic_list())"
    },
    "r": {
     "delete_cmd_postfix": ") ",
     "delete_cmd_prefix": "rm(",
     "library": "var_list.r",
     "varRefreshCmd": "cat(var_dic_list()) "
    }
   },
   "types_to_exclude": [
    "module",
    "function",
    "builtin_function_or_method",
    "instance",
    "_Feature"
   ],
   "window_display": false
  }
 },
 "nbformat": 4,
 "nbformat_minor": 2
}
