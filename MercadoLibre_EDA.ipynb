{
 "cells": [
  {
   "cell_type": "code",
   "execution_count": 1,
   "metadata": {
    "ExecuteTime": {
     "end_time": "2019-09-06T14:49:30.284647Z",
     "start_time": "2019-09-06T14:49:28.663938Z"
    }
   },
   "outputs": [],
   "source": [
    "import pandas as pd\n",
    "import numpy as np\n",
    "\n",
    "%matplotlib inline"
   ]
  },
  {
   "cell_type": "code",
   "execution_count": 2,
   "metadata": {
    "ExecuteTime": {
     "end_time": "2019-09-06T14:49:30.298587Z",
     "start_time": "2019-09-06T14:49:30.295596Z"
    }
   },
   "outputs": [],
   "source": [
    "import warnings\n",
    "warnings.filterwarnings('ignore')"
   ]
  },
  {
   "cell_type": "code",
   "execution_count": 3,
   "metadata": {
    "ExecuteTime": {
     "end_time": "2019-09-06T14:50:10.768760Z",
     "start_time": "2019-09-06T14:49:45.066216Z"
    }
   },
   "outputs": [],
   "source": [
    "df=pd.read_csv('data/train.csv')"
   ]
  },
  {
   "cell_type": "markdown",
   "metadata": {},
   "source": [
    "# EDA"
   ]
  },
  {
   "cell_type": "code",
   "execution_count": 4,
   "metadata": {
    "ExecuteTime": {
     "end_time": "2019-09-03T20:47:23.490481Z",
     "start_time": "2019-09-03T20:47:23.485496Z"
    }
   },
   "outputs": [
    {
     "name": "stdout",
     "output_type": "stream",
     "text": [
      "<class 'pandas.core.frame.DataFrame'>\n",
      "RangeIndex: 20000000 entries, 0 to 19999999\n",
      "Data columns (total 4 columns):\n",
      "title            object\n",
      "label_quality    object\n",
      "language         object\n",
      "category         object\n",
      "dtypes: object(4)\n",
      "memory usage: 610.4+ MB\n"
     ]
    }
   ],
   "source": [
    "df.info()"
   ]
  },
  {
   "cell_type": "code",
   "execution_count": 3,
   "metadata": {
    "ExecuteTime": {
     "end_time": "2019-09-03T17:24:11.070462Z",
     "start_time": "2019-09-03T17:24:10.947310Z"
    }
   },
   "outputs": [
    {
     "data": {
      "text/html": [
       "<div>\n",
       "<style scoped>\n",
       "    .dataframe tbody tr th:only-of-type {\n",
       "        vertical-align: middle;\n",
       "    }\n",
       "\n",
       "    .dataframe tbody tr th {\n",
       "        vertical-align: top;\n",
       "    }\n",
       "\n",
       "    .dataframe thead th {\n",
       "        text-align: right;\n",
       "    }\n",
       "</style>\n",
       "<table border=\"1\" class=\"dataframe\">\n",
       "  <thead>\n",
       "    <tr style=\"text-align: right;\">\n",
       "      <th></th>\n",
       "      <th>title</th>\n",
       "      <th>label_quality</th>\n",
       "      <th>language</th>\n",
       "      <th>category</th>\n",
       "    </tr>\n",
       "  </thead>\n",
       "  <tbody>\n",
       "    <tr>\n",
       "      <th>0</th>\n",
       "      <td>Hidrolavadora Lavor One 120 Bar 1700w  Bomba A...</td>\n",
       "      <td>unreliable</td>\n",
       "      <td>spanish</td>\n",
       "      <td>ELECTRIC_PRESSURE_WASHERS</td>\n",
       "    </tr>\n",
       "    <tr>\n",
       "      <th>1</th>\n",
       "      <td>Placa De Sonido - Behringer Umc22</td>\n",
       "      <td>unreliable</td>\n",
       "      <td>spanish</td>\n",
       "      <td>SOUND_CARDS</td>\n",
       "    </tr>\n",
       "    <tr>\n",
       "      <th>2</th>\n",
       "      <td>Maquina De Lavar Electrolux 12 Kilos</td>\n",
       "      <td>unreliable</td>\n",
       "      <td>portuguese</td>\n",
       "      <td>WASHING_MACHINES</td>\n",
       "    </tr>\n",
       "    <tr>\n",
       "      <th>3</th>\n",
       "      <td>Par Disco De Freio Diant Vent Gol 8v 08/ Frema...</td>\n",
       "      <td>unreliable</td>\n",
       "      <td>portuguese</td>\n",
       "      <td>VEHICLE_BRAKE_DISCS</td>\n",
       "    </tr>\n",
       "    <tr>\n",
       "      <th>4</th>\n",
       "      <td>Flashes Led Pestañas Luminoso Falso Pestañas P...</td>\n",
       "      <td>unreliable</td>\n",
       "      <td>spanish</td>\n",
       "      <td>FALSE_EYELASHES</td>\n",
       "    </tr>\n",
       "  </tbody>\n",
       "</table>\n",
       "</div>"
      ],
      "text/plain": [
       "                                               title label_quality  \\\n",
       "0  Hidrolavadora Lavor One 120 Bar 1700w  Bomba A...    unreliable   \n",
       "1                  Placa De Sonido - Behringer Umc22    unreliable   \n",
       "2               Maquina De Lavar Electrolux 12 Kilos    unreliable   \n",
       "3  Par Disco De Freio Diant Vent Gol 8v 08/ Frema...    unreliable   \n",
       "4  Flashes Led Pestañas Luminoso Falso Pestañas P...    unreliable   \n",
       "\n",
       "     language                   category  \n",
       "0     spanish  ELECTRIC_PRESSURE_WASHERS  \n",
       "1     spanish                SOUND_CARDS  \n",
       "2  portuguese           WASHING_MACHINES  \n",
       "3  portuguese        VEHICLE_BRAKE_DISCS  \n",
       "4     spanish            FALSE_EYELASHES  "
      ]
     },
     "execution_count": 3,
     "metadata": {},
     "output_type": "execute_result"
    }
   ],
   "source": [
    "df.head()"
   ]
  },
  {
   "cell_type": "code",
   "execution_count": 6,
   "metadata": {
    "ExecuteTime": {
     "end_time": "2019-09-03T17:25:03.195668Z",
     "start_time": "2019-09-03T17:25:03.191646Z"
    }
   },
   "outputs": [
    {
     "data": {
      "text/plain": [
       "(20000000, 4)"
      ]
     },
     "execution_count": 6,
     "metadata": {},
     "output_type": "execute_result"
    }
   ],
   "source": [
    "df.shape"
   ]
  },
  {
   "cell_type": "code",
   "execution_count": 55,
   "metadata": {
    "ExecuteTime": {
     "end_time": "2019-09-03T18:59:36.997801Z",
     "start_time": "2019-09-03T18:59:35.146714Z"
    }
   },
   "outputs": [
    {
     "data": {
      "text/plain": [
       "title            0\n",
       "label_quality    0\n",
       "language         0\n",
       "category         0\n",
       "dtype: int64"
      ]
     },
     "execution_count": 55,
     "metadata": {},
     "output_type": "execute_result"
    }
   ],
   "source": [
    "df.isnull().sum()"
   ]
  },
  {
   "cell_type": "code",
   "execution_count": 5,
   "metadata": {
    "ExecuteTime": {
     "end_time": "2019-09-03T17:24:53.365968Z",
     "start_time": "2019-09-03T17:24:52.104549Z"
    }
   },
   "outputs": [
    {
     "data": {
      "text/plain": [
       "unreliable    18815755\n",
       "reliable       1184245\n",
       "Name: label_quality, dtype: int64"
      ]
     },
     "execution_count": 5,
     "metadata": {},
     "output_type": "execute_result"
    }
   ],
   "source": [
    "df['label_quality'].value_counts()"
   ]
  },
  {
   "cell_type": "code",
   "execution_count": 7,
   "metadata": {
    "ExecuteTime": {
     "end_time": "2019-09-03T17:25:37.957215Z",
     "start_time": "2019-09-03T17:25:36.633732Z"
    }
   },
   "outputs": [
    {
     "data": {
      "text/plain": [
       "spanish       10000000\n",
       "portuguese    10000000\n",
       "Name: language, dtype: int64"
      ]
     },
     "execution_count": 7,
     "metadata": {},
     "output_type": "execute_result"
    }
   ],
   "source": [
    "df['language'].value_counts()"
   ]
  },
  {
   "cell_type": "code",
   "execution_count": 10,
   "metadata": {
    "ExecuteTime": {
     "end_time": "2019-09-03T17:26:11.367898Z",
     "start_time": "2019-09-03T17:26:10.151154Z"
    }
   },
   "outputs": [
    {
     "data": {
      "text/plain": [
       "1588"
      ]
     },
     "execution_count": 10,
     "metadata": {},
     "output_type": "execute_result"
    }
   ],
   "source": [
    "df['category'].nunique()"
   ]
  },
  {
   "cell_type": "code",
   "execution_count": 16,
   "metadata": {
    "ExecuteTime": {
     "end_time": "2019-09-04T17:57:03.461394Z",
     "start_time": "2019-09-04T17:56:57.984373Z"
    }
   },
   "outputs": [
    {
     "data": {
      "text/plain": [
       "PANTS                35973\n",
       "COFFEE_MAKERS        35104\n",
       "BABY_CAR_SEATS       34163\n",
       "MUSICAL_KEYBOARDS    33222\n",
       "MATTRESSES           32967\n",
       "Name: category, dtype: int64"
      ]
     },
     "execution_count": 16,
     "metadata": {},
     "output_type": "execute_result"
    }
   ],
   "source": [
    "df['category'].value_counts().head()"
   ]
  },
  {
   "cell_type": "code",
   "execution_count": 12,
   "metadata": {
    "ExecuteTime": {
     "end_time": "2019-09-03T17:26:47.507929Z",
     "start_time": "2019-09-03T17:26:45.461376Z"
    }
   },
   "outputs": [
    {
     "data": {
      "text/plain": [
       "CONSTRUCTION_LIME_BAGS                  206\n",
       "COLD_FOOD_AND_DRINK_VENDING_MACHINES    162\n",
       "PAINTBALL_SMOKE_GRENADES                154\n",
       "COMMERCIAL_POPCORN_MACHINES             141\n",
       "HAMBURGER_FORMERS                       109\n",
       "Name: category, dtype: int64"
      ]
     },
     "execution_count": 12,
     "metadata": {},
     "output_type": "execute_result"
    }
   ],
   "source": [
    "df['category'].value_counts().tail()"
   ]
  },
  {
   "cell_type": "code",
   "execution_count": 13,
   "metadata": {
    "ExecuteTime": {
     "end_time": "2019-09-03T17:30:46.176030Z",
     "start_time": "2019-09-03T17:30:20.998460Z"
    }
   },
   "outputs": [
    {
     "data": {
      "text/plain": [
       "language\n",
       "portuguese    1576\n",
       "spanish       1574\n",
       "Name: category, dtype: int64"
      ]
     },
     "execution_count": 13,
     "metadata": {},
     "output_type": "execute_result"
    }
   ],
   "source": [
    "df.groupby('language')['category'].nunique()"
   ]
  },
  {
   "cell_type": "code",
   "execution_count": 16,
   "metadata": {
    "ExecuteTime": {
     "end_time": "2019-09-03T17:43:37.938843Z",
     "start_time": "2019-09-03T17:43:13.078314Z"
    }
   },
   "outputs": [
    {
     "data": {
      "text/plain": [
       "label_quality\n",
       "reliable      1395\n",
       "unreliable    1588\n",
       "Name: category, dtype: int64"
      ]
     },
     "execution_count": 16,
     "metadata": {},
     "output_type": "execute_result"
    }
   ],
   "source": [
    "df.groupby('label_quality')['category'].nunique()"
   ]
  },
  {
   "cell_type": "code",
   "execution_count": 4,
   "metadata": {
    "ExecuteTime": {
     "end_time": "2019-09-06T15:12:20.536358Z",
     "start_time": "2019-09-06T15:12:17.246162Z"
    }
   },
   "outputs": [],
   "source": [
    "temp1=df[df['label_quality']=='unreliable']['category'].tolist()\n",
    "temp2=df[df['label_quality']=='reliable']['category'].tolist()"
   ]
  },
  {
   "cell_type": "code",
   "execution_count": 5,
   "metadata": {
    "ExecuteTime": {
     "end_time": "2019-09-06T15:12:25.809218Z",
     "start_time": "2019-09-06T15:12:25.068200Z"
    },
    "scrolled": false
   },
   "outputs": [],
   "source": [
    "cat_not_in_reliable=list(set(temp1) - set(temp2))"
   ]
  },
  {
   "cell_type": "code",
   "execution_count": 7,
   "metadata": {
    "ExecuteTime": {
     "end_time": "2019-09-05T03:09:56.721522Z",
     "start_time": "2019-09-05T03:09:55.016705Z"
    }
   },
   "outputs": [
    {
     "data": {
      "text/plain": [
       "COLLECTIBLE_POSTCARDS                    21610\n",
       "HAIR_BRUSHES                             20806\n",
       "TOY_SOLDIERS                             19968\n",
       "SOLDERING_IRONS                          19584\n",
       "AUTOMOTIVE_ENGINE_COOLANT_THERMOSTATS    19539\n",
       "MOTORCYCLE_SEATS                         19259\n",
       "FLATS                                    19042\n",
       "MAKEUP_ILLUMINATORS                      18856\n",
       "FISHING_TACKLE_BOXES                     18401\n",
       "SORTING_AND_STACKING_TOYS                18161\n",
       "Name: category, dtype: int64"
      ]
     },
     "execution_count": 7,
     "metadata": {},
     "output_type": "execute_result"
    }
   ],
   "source": [
    "df[df['category'].isin(cat_not_in_reliable)]['category'].value_counts().head(10)"
   ]
  },
  {
   "cell_type": "code",
   "execution_count": 7,
   "metadata": {
    "ExecuteTime": {
     "end_time": "2019-09-05T02:46:35.917027Z",
     "start_time": "2019-09-05T02:46:34.321390Z"
    }
   },
   "outputs": [
    {
     "data": {
      "text/plain": [
       "LENTILS                                 313\n",
       "BOXING_SPEED_BAGS                       288\n",
       "MANUAL_TROLLEYS                         277\n",
       "SCALE_RULERS                            266\n",
       "FORCE_GAUGES                            213\n",
       "CONSTRUCTION_LIME_BAGS                  206\n",
       "COLD_FOOD_AND_DRINK_VENDING_MACHINES    162\n",
       "PAINTBALL_SMOKE_GRENADES                154\n",
       "COMMERCIAL_POPCORN_MACHINES             141\n",
       "HAMBURGER_FORMERS                       109\n",
       "Name: category, dtype: int64"
      ]
     },
     "execution_count": 7,
     "metadata": {},
     "output_type": "execute_result"
    }
   ],
   "source": [
    "df[df['category'].isin(cat_not_in_reliable)]['category'].value_counts().tail(10)"
   ]
  },
  {
   "cell_type": "code",
   "execution_count": 7,
   "metadata": {
    "ExecuteTime": {
     "end_time": "2019-09-05T02:29:04.810261Z",
     "start_time": "2019-09-05T02:29:02.134450Z"
    },
    "scrolled": true
   },
   "outputs": [
    {
     "data": {
      "text/html": [
       "<div>\n",
       "<style scoped>\n",
       "    .dataframe tbody tr th:only-of-type {\n",
       "        vertical-align: middle;\n",
       "    }\n",
       "\n",
       "    .dataframe tbody tr th {\n",
       "        vertical-align: top;\n",
       "    }\n",
       "\n",
       "    .dataframe thead th {\n",
       "        text-align: right;\n",
       "    }\n",
       "</style>\n",
       "<table border=\"1\" class=\"dataframe\">\n",
       "  <thead>\n",
       "    <tr style=\"text-align: right;\">\n",
       "      <th></th>\n",
       "      <th>title</th>\n",
       "      <th>label_quality</th>\n",
       "      <th>language</th>\n",
       "      <th>category</th>\n",
       "    </tr>\n",
       "  </thead>\n",
       "  <tbody>\n",
       "    <tr>\n",
       "      <td>0</td>\n",
       "      <td>Hidrolavadora Lavor One 120 Bar 1700w  Bomba A...</td>\n",
       "      <td>unreliable</td>\n",
       "      <td>spanish</td>\n",
       "      <td>ELECTRIC_PRESSURE_WASHERS</td>\n",
       "    </tr>\n",
       "    <tr>\n",
       "      <td>1</td>\n",
       "      <td>Placa De Sonido - Behringer Umc22</td>\n",
       "      <td>unreliable</td>\n",
       "      <td>spanish</td>\n",
       "      <td>SOUND_CARDS</td>\n",
       "    </tr>\n",
       "    <tr>\n",
       "      <td>4</td>\n",
       "      <td>Flashes Led Pestañas Luminoso Falso Pestañas P...</td>\n",
       "      <td>unreliable</td>\n",
       "      <td>spanish</td>\n",
       "      <td>FALSE_EYELASHES</td>\n",
       "    </tr>\n",
       "    <tr>\n",
       "      <td>9</td>\n",
       "      <td>Gatito Lunchera Neoprene</td>\n",
       "      <td>unreliable</td>\n",
       "      <td>spanish</td>\n",
       "      <td>LUNCHBOXES</td>\n",
       "    </tr>\n",
       "    <tr>\n",
       "      <td>11</td>\n",
       "      <td>Rosario Contador De Billetes Uv / Mg Detecta F...</td>\n",
       "      <td>unreliable</td>\n",
       "      <td>spanish</td>\n",
       "      <td>BILL_COUNTERS</td>\n",
       "    </tr>\n",
       "    <tr>\n",
       "      <td>18</td>\n",
       "      <td>Battery Pack Huawei 13000mah Cuerpo De Metal 2...</td>\n",
       "      <td>unreliable</td>\n",
       "      <td>spanish</td>\n",
       "      <td>PORTABLE_CELLPHONE_CHARGERS</td>\n",
       "    </tr>\n",
       "    <tr>\n",
       "      <td>23</td>\n",
       "      <td>Portón De Chapa 3 Hojas Mtr 2.50 Sin Marco</td>\n",
       "      <td>unreliable</td>\n",
       "      <td>spanish</td>\n",
       "      <td>GARAGE_DOORS</td>\n",
       "    </tr>\n",
       "    <tr>\n",
       "      <td>24</td>\n",
       "      <td>A4404 Multi Puertos Usb Rápido Cargador Cabeza...</td>\n",
       "      <td>unreliable</td>\n",
       "      <td>spanish</td>\n",
       "      <td>LABEL_MAKERS</td>\n",
       "    </tr>\n",
       "    <tr>\n",
       "      <td>26</td>\n",
       "      <td>Base Simil Cemento - 30 Cm X 5 Mm</td>\n",
       "      <td>unreliable</td>\n",
       "      <td>spanish</td>\n",
       "      <td>CAKE_TOPPERS</td>\n",
       "    </tr>\n",
       "    <tr>\n",
       "      <td>30</td>\n",
       "      <td>Maquina Para Sublimar Estampar Goldex 60x40</td>\n",
       "      <td>unreliable</td>\n",
       "      <td>spanish</td>\n",
       "      <td>SCREEN_PRINTERS</td>\n",
       "    </tr>\n",
       "  </tbody>\n",
       "</table>\n",
       "</div>"
      ],
      "text/plain": [
       "                                                title label_quality language  \\\n",
       "0   Hidrolavadora Lavor One 120 Bar 1700w  Bomba A...    unreliable  spanish   \n",
       "1                   Placa De Sonido - Behringer Umc22    unreliable  spanish   \n",
       "4   Flashes Led Pestañas Luminoso Falso Pestañas P...    unreliable  spanish   \n",
       "9                           Gatito Lunchera Neoprene     unreliable  spanish   \n",
       "11  Rosario Contador De Billetes Uv / Mg Detecta F...    unreliable  spanish   \n",
       "18  Battery Pack Huawei 13000mah Cuerpo De Metal 2...    unreliable  spanish   \n",
       "23         Portón De Chapa 3 Hojas Mtr 2.50 Sin Marco    unreliable  spanish   \n",
       "24  A4404 Multi Puertos Usb Rápido Cargador Cabeza...    unreliable  spanish   \n",
       "26                  Base Simil Cemento - 30 Cm X 5 Mm    unreliable  spanish   \n",
       "30        Maquina Para Sublimar Estampar Goldex 60x40    unreliable  spanish   \n",
       "\n",
       "                       category  \n",
       "0     ELECTRIC_PRESSURE_WASHERS  \n",
       "1                   SOUND_CARDS  \n",
       "4               FALSE_EYELASHES  \n",
       "9                    LUNCHBOXES  \n",
       "11                BILL_COUNTERS  \n",
       "18  PORTABLE_CELLPHONE_CHARGERS  \n",
       "23                 GARAGE_DOORS  \n",
       "24                 LABEL_MAKERS  \n",
       "26                 CAKE_TOPPERS  \n",
       "30              SCREEN_PRINTERS  "
      ]
     },
     "execution_count": 7,
     "metadata": {},
     "output_type": "execute_result"
    }
   ],
   "source": [
    "df[(df['label_quality']=='unreliable')&(df['language']=='spanish')].head(10)"
   ]
  },
  {
   "cell_type": "code",
   "execution_count": 56,
   "metadata": {
    "ExecuteTime": {
     "end_time": "2019-09-04T19:48:32.406350Z",
     "start_time": "2019-09-04T19:48:29.688579Z"
    }
   },
   "outputs": [
    {
     "data": {
      "text/plain": [
       "SCALE_RULERS                   49\n",
       "COMMERCIAL_POPCORN_MACHINES    36\n",
       "SNACK_HOLDERS                   9\n",
       "ANTI_STATIC_PLIERS              5\n",
       "CARD_PAYMENT_TERMINALS          2\n",
       "Name: category, dtype: int64"
      ]
     },
     "execution_count": 56,
     "metadata": {},
     "output_type": "execute_result"
    }
   ],
   "source": [
    "df[df['language']=='spanish']['category'].value_counts().tail()"
   ]
  },
  {
   "cell_type": "code",
   "execution_count": 57,
   "metadata": {
    "ExecuteTime": {
     "end_time": "2019-09-04T19:48:53.729352Z",
     "start_time": "2019-09-04T19:48:51.148182Z"
    }
   },
   "outputs": [
    {
     "data": {
      "text/plain": [
       "PACKAGING_CONTAINERS        33\n",
       "MARTIAL_ARTS_FOOT_GUARDS    30\n",
       "COFFEE_VENDING_MACHINES     29\n",
       "HAMBURGER_FORMERS           23\n",
       "FIELD_HOCKEY_STICKS         20\n",
       "Name: category, dtype: int64"
      ]
     },
     "execution_count": 57,
     "metadata": {},
     "output_type": "execute_result"
    }
   ],
   "source": [
    "df[df['language']=='portuguese']['category'].value_counts().tail()"
   ]
  },
  {
   "cell_type": "code",
   "execution_count": 58,
   "metadata": {
    "ExecuteTime": {
     "end_time": "2019-09-04T19:49:25.810586Z",
     "start_time": "2019-09-04T19:49:23.818909Z"
    }
   },
   "outputs": [
    {
     "data": {
      "text/plain": [
       "CONSTRUCTION_LIME_BAGS                  206\n",
       "COLD_FOOD_AND_DRINK_VENDING_MACHINES    162\n",
       "PAINTBALL_SMOKE_GRENADES                154\n",
       "COMMERCIAL_POPCORN_MACHINES             141\n",
       "HAMBURGER_FORMERS                       109\n",
       "Name: category, dtype: int64"
      ]
     },
     "execution_count": 58,
     "metadata": {},
     "output_type": "execute_result"
    }
   ],
   "source": [
    "df['category'].value_counts().tail()"
   ]
  },
  {
   "cell_type": "code",
   "execution_count": 11,
   "metadata": {
    "ExecuteTime": {
     "end_time": "2019-09-05T02:32:07.142125Z",
     "start_time": "2019-09-05T02:32:06.120395Z"
    }
   },
   "outputs": [
    {
     "data": {
      "text/plain": [
       "(1184245, 4)"
      ]
     },
     "execution_count": 11,
     "metadata": {},
     "output_type": "execute_result"
    }
   ],
   "source": [
    "df[(df['label_quality']=='reliable')].shape"
   ]
  },
  {
   "cell_type": "code",
   "execution_count": 12,
   "metadata": {
    "ExecuteTime": {
     "end_time": "2019-09-05T02:32:20.491021Z",
     "start_time": "2019-09-05T02:32:19.110644Z"
    }
   },
   "outputs": [
    {
     "data": {
      "text/plain": [
       "(1202059, 4)"
      ]
     },
     "execution_count": 12,
     "metadata": {},
     "output_type": "execute_result"
    }
   ],
   "source": [
    "df[(df['category'].isin(cat_not_in_reliable))].shape"
   ]
  },
  {
   "cell_type": "code",
   "execution_count": 10,
   "metadata": {
    "ExecuteTime": {
     "end_time": "2019-09-05T02:31:51.568186Z",
     "start_time": "2019-09-05T02:31:48.946503Z"
    }
   },
   "outputs": [
    {
     "data": {
      "text/plain": [
       "(2386304, 4)"
      ]
     },
     "execution_count": 10,
     "metadata": {},
     "output_type": "execute_result"
    }
   ],
   "source": [
    "df[(df['label_quality']=='reliable')|(df['category'].isin(cat_not_in_reliable))].shape"
   ]
  },
  {
   "cell_type": "code",
   "execution_count": 6,
   "metadata": {
    "ExecuteTime": {
     "end_time": "2019-09-05T03:29:24.154922Z",
     "start_time": "2019-09-05T03:29:21.392257Z"
    }
   },
   "outputs": [
    {
     "data": {
      "text/plain": [
       "COLLECTIBLE_POSTCARDS                    21610\n",
       "HAIR_BRUSHES                             20806\n",
       "TOY_SOLDIERS                             19968\n",
       "SOLDERING_IRONS                          19584\n",
       "AUTOMOTIVE_ENGINE_COOLANT_THERMOSTATS    19539\n",
       "                                         ...  \n",
       "MOTORCYCLE_GASOLINE_TANKS                    1\n",
       "ANGLE_CLAMPS                                 1\n",
       "WALL_LIGHT_SWITCHES                          1\n",
       "SUN_UMBRELLAS                                1\n",
       "BOTTLE_OPENERS                               1\n",
       "Name: category, Length: 1588, dtype: int64"
      ]
     },
     "execution_count": 6,
     "metadata": {},
     "output_type": "execute_result"
    }
   ],
   "source": [
    "df[(df['label_quality']=='reliable')|(df['category'].isin(cat_not_in_reliable))]['category'].value_counts()"
   ]
  },
  {
   "cell_type": "code",
   "execution_count": 16,
   "metadata": {
    "ExecuteTime": {
     "end_time": "2019-09-05T02:49:43.476406Z",
     "start_time": "2019-09-05T02:49:40.660154Z"
    }
   },
   "outputs": [
    {
     "data": {
      "text/plain": [
       "1253"
      ]
     },
     "execution_count": 16,
     "metadata": {},
     "output_type": "execute_result"
    }
   ],
   "source": [
    "sum(df[(df['label_quality']=='reliable')|(df['category'].isin(cat_not_in_reliable))]['category'].value_counts()<=3000)"
   ]
  }
 ],
 "metadata": {
  "kernelspec": {
   "display_name": "Python 3",
   "language": "python",
   "name": "python3"
  },
  "language_info": {
   "codemirror_mode": {
    "name": "ipython",
    "version": 3
   },
   "file_extension": ".py",
   "mimetype": "text/x-python",
   "name": "python",
   "nbconvert_exporter": "python",
   "pygments_lexer": "ipython3",
   "version": "3.6.5"
  },
  "toc": {
   "base_numbering": 1,
   "nav_menu": {},
   "number_sections": true,
   "sideBar": true,
   "skip_h1_title": false,
   "title_cell": "Table of Contents",
   "title_sidebar": "Contents",
   "toc_cell": false,
   "toc_position": {},
   "toc_section_display": true,
   "toc_window_display": false
  },
  "varInspector": {
   "cols": {
    "lenName": 16,
    "lenType": 16,
    "lenVar": 40
   },
   "kernels_config": {
    "python": {
     "delete_cmd_postfix": "",
     "delete_cmd_prefix": "del ",
     "library": "var_list.py",
     "varRefreshCmd": "print(var_dic_list())"
    },
    "r": {
     "delete_cmd_postfix": ") ",
     "delete_cmd_prefix": "rm(",
     "library": "var_list.r",
     "varRefreshCmd": "cat(var_dic_list()) "
    }
   },
   "types_to_exclude": [
    "module",
    "function",
    "builtin_function_or_method",
    "instance",
    "_Feature"
   ],
   "window_display": false
  }
 },
 "nbformat": 4,
 "nbformat_minor": 2
}
