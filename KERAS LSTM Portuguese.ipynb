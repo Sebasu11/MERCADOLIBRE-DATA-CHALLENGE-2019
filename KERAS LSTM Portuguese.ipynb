{
 "cells": [
  {
   "cell_type": "code",
   "execution_count": 1,
   "metadata": {
    "ExecuteTime": {
     "end_time": "2019-10-01T12:49:20.762177Z",
     "start_time": "2019-10-01T12:49:11.210759Z"
    }
   },
   "outputs": [
    {
     "name": "stderr",
     "output_type": "stream",
     "text": [
      "Using TensorFlow backend.\n"
     ]
    },
    {
     "data": {
      "text/html": [
       "        <script type=\"text/javascript\">\n",
       "        window.PlotlyConfig = {MathJaxConfig: 'local'};\n",
       "        if (window.MathJax) {MathJax.Hub.Config({SVG: {font: \"STIX-Web\"}});}\n",
       "        if (typeof require !== 'undefined') {\n",
       "        require.undef(\"plotly\");\n",
       "        requirejs.config({\n",
       "            paths: {\n",
       "                'plotly': ['https://cdn.plot.ly/plotly-latest.min']\n",
       "            }\n",
       "        });\n",
       "        require(['plotly'], function(Plotly) {\n",
       "            window._Plotly = Plotly;\n",
       "        });\n",
       "        }\n",
       "        </script>\n",
       "        "
      ]
     },
     "metadata": {},
     "output_type": "display_data"
    }
   ],
   "source": [
    "import numpy as np \n",
    "import pandas as pd\n",
    "import matplotlib.pyplot as plt\n",
    "import seaborn as sns\n",
    "from keras.preprocessing.text import Tokenizer\n",
    "from keras.preprocessing.sequence import pad_sequences\n",
    "from keras.models import Sequential\n",
    "from keras.layers import Dense, Embedding, LSTM, SpatialDropout1D\n",
    "from sklearn.model_selection import train_test_split\n",
    "from keras.utils.np_utils import to_categorical\n",
    "from keras.callbacks import EarlyStopping\n",
    "from keras.layers import Dropout\n",
    "import re\n",
    "#from nltk.corpus import stopwords\n",
    "from nltk import word_tokenize\n",
    "#STOPWORDS = set(stopwords.words('english'))\n",
    "from bs4 import BeautifulSoup\n",
    "import plotly.graph_objs as go\n",
    "import plotly.plotly as py\n",
    "import cufflinks\n",
    "from IPython.core.interactiveshell import InteractiveShell\n",
    "import plotly.figure_factory as ff\n",
    "InteractiveShell.ast_node_interactivity = 'all'\n",
    "from plotly.offline import iplot\n",
    "cufflinks.go_offline()\n",
    "cufflinks.set_config_file(world_readable=True, theme='pearl')"
   ]
  },
  {
   "cell_type": "code",
   "execution_count": 2,
   "metadata": {
    "ExecuteTime": {
     "end_time": "2019-10-01T12:49:20.775109Z",
     "start_time": "2019-10-01T12:49:20.772118Z"
    }
   },
   "outputs": [],
   "source": [
    "import re\n",
    "import unicodedata"
   ]
  },
  {
   "cell_type": "code",
   "execution_count": 3,
   "metadata": {
    "ExecuteTime": {
     "end_time": "2019-10-01T12:49:20.983749Z",
     "start_time": "2019-10-01T12:49:20.783089Z"
    }
   },
   "outputs": [],
   "source": [
    "from imblearn.pipeline import Pipeline as make_pipeline_imb\n",
    "from imblearn.over_sampling import SMOTE\n",
    "from sklearn.feature_extraction.text import TfidfVectorizer,CountVectorizer,TfidfTransformer\n",
    "from sklearn.naive_bayes import MultinomialNB\n",
    "from sklearn.svm import LinearSVC\n",
    "from sklearn.model_selection import train_test_split\n",
    "from imblearn.under_sampling import RandomUnderSampler\n",
    "\n",
    "from sklearn.metrics import balanced_accuracy_score"
   ]
  },
  {
   "cell_type": "code",
   "execution_count": 4,
   "metadata": {
    "ExecuteTime": {
     "end_time": "2019-10-01T12:49:40.397649Z",
     "start_time": "2019-10-01T12:49:20.991542Z"
    }
   },
   "outputs": [],
   "source": [
    "df=pd.read_csv('data/train.csv')"
   ]
  },
  {
   "cell_type": "code",
   "execution_count": 5,
   "metadata": {
    "ExecuteTime": {
     "end_time": "2019-10-01T12:56:48.707692Z",
     "start_time": "2019-10-01T12:49:40.414568Z"
    }
   },
   "outputs": [],
   "source": [
    "temp1=df[df['label_quality']=='unreliable']['category'].tolist()\n",
    "temp2=df[df['label_quality']=='reliable']['category'].tolist()\n",
    "\n",
    "cat_not_in_reliable=list(set(temp1) - set(temp2))\n",
    "cat_count=df[(df['label_quality']=='reliable')|(df['category'].isin(cat_not_in_reliable))]['category'].value_counts()\n",
    "cat_low_count=cat_count[cat_count<4000].index.tolist()\n",
    "df=df[(df['label_quality']=='reliable')|(df['category'].isin(cat_not_in_reliable))|(df['category'].isin(cat_low_count))]\n",
    "all_cat=df['category'].value_counts()\n",
    "all_cat=all_cat[all_cat<=400].index.tolist()\n",
    "df_portuguese_temp        = df[df['language']=='portuguese']\n",
    "counts_portuguese         = df_portuguese_temp['category'].value_counts()\n",
    "low_portuguese            =counts_portuguese[counts_portuguese<200]\n",
    "df_portuguese=df[(df['language']=='portuguese')|\\\n",
    "              (~df['category'].isin(counts_portuguese.index))|\\\n",
    "              (df['category'].isin(all_cat))|\\\n",
    "              (df['category'].isin(low_portuguese.index))]\n",
    "\n",
    "sampling_portuguese={}\n",
    "counts_portuguese  = df_portuguese['category'].value_counts()\n",
    "for cat in counts_portuguese.index:\n",
    "    if counts_portuguese.loc[cat]>2200:\n",
    "        sampling_portuguese[cat]=2200\n",
    "    else:\n",
    "        sampling_portuguese[cat]=counts_portuguese.loc[cat]\n",
    "\n",
    "X_portuguese = df_portuguese['title']\n",
    "y_portuguese = df_portuguese['category']\n",
    "\n",
    "rus_portuguese = RandomUnderSampler(sampling_strategy=sampling_portuguese,random_state=42)\n",
    "X_res_portuguese, y_res_portuguese = rus_portuguese.fit_resample(X_portuguese.values.reshape(-1, 1), y_portuguese)\n",
    "\n",
    "#Portuguese\n",
    "X_res_portuguese=pd.DataFrame(X_res_portuguese)\n",
    "X_res_portuguese.columns=['title']\n",
    "X_res_portuguese['title']=X_res_portuguese['title'].astype('str')\n",
    "y_res_portuguese=pd.Series(y_res_portuguese)"
   ]
  },
  {
   "cell_type": "code",
   "execution_count": 6,
   "metadata": {
    "ExecuteTime": {
     "end_time": "2019-10-01T12:56:51.082338Z",
     "start_time": "2019-10-01T12:56:51.076354Z"
    }
   },
   "outputs": [],
   "source": [
    "def clean_text(text) :\n",
    "    text=unicodedata.normalize('NFKD', str(text)).encode('ascii', errors='ignore').decode('utf-8')\\\n",
    "    .lower().replace(r'\\\\n','').replace(r'-',' ').replace(r'.','').strip()\n",
    "    text = re.sub(\"[^a-zA-Z]\", \" \", str(text))\n",
    "    #return \" \".join(text.split())\n",
    "    return \" \".join([w for w in text.split() if len(w)>1])"
   ]
  },
  {
   "cell_type": "code",
   "execution_count": 7,
   "metadata": {
    "ExecuteTime": {
     "end_time": "2019-10-01T12:57:13.227128Z",
     "start_time": "2019-10-01T12:56:53.408149Z"
    }
   },
   "outputs": [],
   "source": [
    "X_res_portuguese['title']=X_res_portuguese['title'].apply(clean_text)"
   ]
  },
  {
   "cell_type": "code",
   "execution_count": 8,
   "metadata": {
    "ExecuteTime": {
     "end_time": "2019-10-01T12:57:49.146008Z",
     "start_time": "2019-10-01T12:57:15.604771Z"
    }
   },
   "outputs": [
    {
     "name": "stdout",
     "output_type": "stream",
     "text": [
      "Found 241620 unique tokens.\n"
     ]
    }
   ],
   "source": [
    "# The maximum number of words to be used. (most frequent)\n",
    "MAX_NB_WORDS = 50000\n",
    "# Max number of words in each title.\n",
    "MAX_SEQUENCE_LENGTH = 40\n",
    "# This is fixed.\n",
    "EMBEDDING_DIM = 100\n",
    "\n",
    "tokenizer = Tokenizer(num_words=MAX_NB_WORDS, filters='!\"#$%&()*+,-./:;<=>?@[\\]^_`{|}~', lower=True)\n",
    "tokenizer.fit_on_texts(X_res_portuguese['title'].values)\n",
    "word_index = tokenizer.word_index\n",
    "print('Found %s unique tokens.' % len(word_index))"
   ]
  },
  {
   "cell_type": "code",
   "execution_count": 9,
   "metadata": {
    "ExecuteTime": {
     "end_time": "2019-10-01T12:58:31.277629Z",
     "start_time": "2019-10-01T12:57:51.429255Z"
    }
   },
   "outputs": [
    {
     "name": "stdout",
     "output_type": "stream",
     "text": [
      "Shape of data tensor: (3105468, 40)\n"
     ]
    }
   ],
   "source": [
    "X = tokenizer.texts_to_sequences(X_res_portuguese['title'].values)\n",
    "X = pad_sequences(X, maxlen=MAX_SEQUENCE_LENGTH)\n",
    "print('Shape of data tensor:', X.shape)"
   ]
  },
  {
   "cell_type": "code",
   "execution_count": 10,
   "metadata": {
    "ExecuteTime": {
     "end_time": "2019-10-01T12:58:37.774279Z",
     "start_time": "2019-10-01T12:58:33.598422Z"
    }
   },
   "outputs": [
    {
     "name": "stdout",
     "output_type": "stream",
     "text": [
      "Shape of label tensor: (3105468, 1588)\n"
     ]
    }
   ],
   "source": [
    "y = pd.get_dummies(y_res_portuguese).values\n",
    "print('Shape of label tensor:', y.shape)"
   ]
  },
  {
   "cell_type": "code",
   "execution_count": 11,
   "metadata": {
    "ExecuteTime": {
     "end_time": "2019-10-01T12:58:45.055762Z",
     "start_time": "2019-10-01T12:58:40.077107Z"
    }
   },
   "outputs": [
    {
     "name": "stdout",
     "output_type": "stream",
     "text": [
      "(1552734, 40) (1552734, 1588)\n",
      "(1552734, 40) (1552734, 1588)\n"
     ]
    }
   ],
   "source": [
    "X_train, X_test, y_train, y_test = train_test_split(X,y, test_size = 0.5, random_state = 42,)# stratify=y)\n",
    "print(X_train.shape,y_train.shape)\n",
    "print(X_test.shape,y_test.shape)"
   ]
  },
  {
   "cell_type": "code",
   "execution_count": 12,
   "metadata": {
    "ExecuteTime": {
     "end_time": "2019-10-01T12:58:47.815694Z",
     "start_time": "2019-10-01T12:58:47.375555Z"
    }
   },
   "outputs": [
    {
     "name": "stdout",
     "output_type": "stream",
     "text": [
      "Model: \"sequential_1\"\n",
      "_________________________________________________________________\n",
      "Layer (type)                 Output Shape              Param #   \n",
      "=================================================================\n",
      "embedding_1 (Embedding)      (None, 40, 100)           5000000   \n",
      "_________________________________________________________________\n",
      "spatial_dropout1d_1 (Spatial (None, 40, 100)           0         \n",
      "_________________________________________________________________\n",
      "lstm_1 (LSTM)                (None, 100)               80400     \n",
      "_________________________________________________________________\n",
      "dense_1 (Dense)              (None, 1588)              160388    \n",
      "=================================================================\n",
      "Total params: 5,240,788\n",
      "Trainable params: 5,240,788\n",
      "Non-trainable params: 0\n",
      "_________________________________________________________________\n",
      "None\n"
     ]
    }
   ],
   "source": [
    "model = Sequential()\n",
    "model.add(Embedding(MAX_NB_WORDS, EMBEDDING_DIM, input_length=X.shape[1]))\n",
    "model.add(SpatialDropout1D(0.2))\n",
    "model.add(LSTM(100, dropout=0.2, recurrent_dropout=0.2))\n",
    "model.add(Dense(1588, activation='softmax'))\n",
    "model.compile(loss='categorical_crossentropy', optimizer='adam', metrics=['categorical_accuracy'])\n",
    "print(model.summary())"
   ]
  },
  {
   "cell_type": "code",
   "execution_count": 13,
   "metadata": {
    "ExecuteTime": {
     "end_time": "2019-10-01T17:29:37.954237Z",
     "start_time": "2019-10-01T12:58:50.090580Z"
    }
   },
   "outputs": [
    {
     "name": "stderr",
     "output_type": "stream",
     "text": [
      "e:\\anaconda\\envs\\keras\\lib\\site-packages\\tensorflow_core\\python\\framework\\indexed_slices.py:424: UserWarning:\n",
      "\n",
      "Converting sparse IndexedSlices to a dense Tensor of unknown shape. This may consume a large amount of memory.\n",
      "\n"
     ]
    },
    {
     "name": "stdout",
     "output_type": "stream",
     "text": [
      "Train on 1397460 samples, validate on 155274 samples\n",
      "Epoch 1/7\n",
      "1397460/1397460 [==============================] - 2088s 1ms/step - loss: 1.9866 - categorical_accuracy: 0.6491 - val_loss: 0.9348 - val_categorical_accuracy: 0.8125\n",
      "Epoch 2/7\n",
      "1397460/1397460 [==============================] - 2063s 1ms/step - loss: 0.9154 - categorical_accuracy: 0.8139 - val_loss: 0.8244 - val_categorical_accuracy: 0.8331\n",
      "Epoch 3/7\n",
      "1397460/1397460 [==============================] - 2134s 2ms/step - loss: 0.8012 - categorical_accuracy: 0.8316 - val_loss: 0.7931 - val_categorical_accuracy: 0.8389\n",
      "Epoch 4/7\n",
      "1397460/1397460 [==============================] - 3018s 2ms/step - loss: 0.7450 - categorical_accuracy: 0.8407 - val_loss: 0.7757 - val_categorical_accuracy: 0.8424\n",
      "Epoch 5/7\n",
      "1397460/1397460 [==============================] - 2647s 2ms/step - loss: 0.7102 - categorical_accuracy: 0.8464 - val_loss: 0.7673 - val_categorical_accuracy: 0.8448\n",
      "Epoch 6/7\n",
      "1397460/1397460 [==============================] - 2147s 2ms/step - loss: 0.6861 - categorical_accuracy: 0.8501 - val_loss: 0.7614 - val_categorical_accuracy: 0.8464\n",
      "Epoch 7/7\n",
      "1397460/1397460 [==============================] - 2149s 2ms/step - loss: 0.6663 - categorical_accuracy: 0.8534 - val_loss: 0.7580 - val_categorical_accuracy: 0.8473\n"
     ]
    }
   ],
   "source": [
    "epochs = 7\n",
    "batch_size = 64\n",
    "history = model.fit(X_train, y_train,\n",
    "                    epochs=epochs, batch_size=batch_size,\n",
    "                    validation_split=0.1,\n",
    "                    callbacks=[EarlyStopping(monitor='val_loss', patience=3, min_delta=0.0001)])"
   ]
  },
  {
   "cell_type": "code",
   "execution_count": 14,
   "metadata": {
    "ExecuteTime": {
     "end_time": "2019-10-01T17:34:53.548835Z",
     "start_time": "2019-10-01T17:29:40.275036Z"
    }
   },
   "outputs": [
    {
     "name": "stdout",
     "output_type": "stream",
     "text": [
      "1552734/1552734 [==============================] - 313s 202us/step\n",
      "Test set\n",
      "  Loss: 0.757\n",
      "  Accuracy: 0.848\n"
     ]
    }
   ],
   "source": [
    "accr = model.evaluate(X_test,y_test)\n",
    "print('Test set\\n  Loss: {:0.3f}\\n  Accuracy: {:0.3f}'.format(accr[0],accr[1]))"
   ]
  },
  {
   "cell_type": "code",
   "execution_count": 16,
   "metadata": {
    "ExecuteTime": {
     "end_time": "2019-10-01T17:35:15.629831Z",
     "start_time": "2019-10-01T17:35:15.497157Z"
    }
   },
   "outputs": [
    {
     "data": {
      "image/png": "[encoded data removed]",
      "text/plain": [
       "<Figure size 432x288 with 1 Axes>"
      ]
     },
     "metadata": {
      "needs_background": "light"
     },
     "output_type": "display_data"
    }
   ],
   "source": [
    "plt.title('Loss')\n",
    "plt.plot(history.history['loss'], label='train')\n",
    "plt.plot(history.history['val_loss'], label='test')\n",
    "plt.legend()\n",
    "plt.show();"
   ]
  },
  {
   "cell_type": "code",
   "execution_count": 21,
   "metadata": {
    "ExecuteTime": {
     "end_time": "2019-10-01T17:36:04.304951Z",
     "start_time": "2019-10-01T17:36:04.190250Z"
    }
   },
   "outputs": [
    {
     "data": {
      "image/png": "[encoded data removed]",
      "text/plain": [
       "<Figure size 432x288 with 1 Axes>"
      ]
     },
     "metadata": {
      "needs_background": "light"
     },
     "output_type": "display_data"
    }
   ],
   "source": [
    "plt.title('Categorical Accuracy')\n",
    "plt.plot(history.history['categorical_accuracy'], label='train')\n",
    "plt.plot(history.history['val_categorical_accuracy'], label='test')\n",
    "plt.legend()\n",
    "plt.show();"
   ]
  },
  {
   "cell_type": "code",
   "execution_count": 22,
   "metadata": {
    "ExecuteTime": {
     "end_time": "2019-10-01T17:36:25.626195Z",
     "start_time": "2019-10-01T17:36:20.980595Z"
    }
   },
   "outputs": [],
   "source": [
    "labels = pd.get_dummies(y_res_portuguese).columns"
   ]
  },
  {
   "cell_type": "code",
   "execution_count": 93,
   "metadata": {
    "ExecuteTime": {
     "end_time": "2019-09-30T19:26:45.330199Z",
     "start_time": "2019-09-30T19:26:45.314264Z"
    }
   },
   "outputs": [
    {
     "name": "stdout",
     "output_type": "stream",
     "text": [
      "TEA\n"
     ]
    }
   ],
   "source": [
    "title = 'Te Rojo En Hebras   X 1 Kg Nacional Imperdible'\n",
    "title_clean = clean_text(title)\n",
    "seq = tokenizer.texts_to_sequences([title_clean])\n",
    "padded = pad_sequences(seq, maxlen=MAX_SEQUENCE_LENGTH)\n",
    "pred = model.predict(padded)\n",
    "print(labels[np.argmax(pred)])"
   ]
  },
  {
   "cell_type": "code",
   "execution_count": 23,
   "metadata": {
    "ExecuteTime": {
     "end_time": "2019-10-01T17:36:28.961621Z",
     "start_time": "2019-10-01T17:36:28.524635Z"
    }
   },
   "outputs": [],
   "source": [
    "model.save('models/LSTM_portuguese.h5')"
   ]
  },
  {
   "cell_type": "markdown",
   "metadata": {},
   "source": [
    "# SUBMIT"
   ]
  },
  {
   "cell_type": "code",
   "execution_count": 24,
   "metadata": {
    "ExecuteTime": {
     "end_time": "2019-10-01T17:36:31.967388Z",
     "start_time": "2019-10-01T17:36:31.504626Z"
    }
   },
   "outputs": [],
   "source": [
    "df_test = pd.read_csv('data/test.csv')"
   ]
  },
  {
   "cell_type": "code",
   "execution_count": 25,
   "metadata": {
    "ExecuteTime": {
     "end_time": "2019-10-01T17:36:35.052132Z",
     "start_time": "2019-10-01T17:36:34.251276Z"
    }
   },
   "outputs": [],
   "source": [
    "df_pred_portuguese=df_test[df_test['language']=='portuguese']\n",
    "df_pred_portuguese['title']=df_pred_portuguese['title'].apply(clean_text)"
   ]
  },
  {
   "cell_type": "code",
   "execution_count": 26,
   "metadata": {
    "ExecuteTime": {
     "end_time": "2019-10-01T17:36:37.369929Z",
     "start_time": "2019-10-01T17:36:37.365941Z"
    }
   },
   "outputs": [],
   "source": [
    "def prediction(title):\n",
    "    seq = tokenizer.texts_to_sequences([title])\n",
    "    padded = pad_sequences(seq, maxlen=MAX_SEQUENCE_LENGTH)\n",
    "    pred = model.predict(padded)\n",
    "    return labels[np.argmax(pred)]"
   ]
  },
  {
   "cell_type": "code",
   "execution_count": 27,
   "metadata": {
    "ExecuteTime": {
     "end_time": "2019-10-01T17:41:31.387825Z",
     "start_time": "2019-10-01T17:36:39.671786Z"
    }
   },
   "outputs": [],
   "source": [
    "df_pred_portuguese['category'] = df_pred_portuguese['title'].apply(prediction)"
   ]
  },
  {
   "cell_type": "code",
   "execution_count": 28,
   "metadata": {
    "ExecuteTime": {
     "end_time": "2019-10-01T17:41:33.796358Z",
     "start_time": "2019-10-01T17:41:33.779363Z"
    }
   },
   "outputs": [
    {
     "data": {
      "text/html": [
       "<div>\n",
       "<style scoped>\n",
       "    .dataframe tbody tr th:only-of-type {\n",
       "        vertical-align: middle;\n",
       "    }\n",
       "\n",
       "    .dataframe tbody tr th {\n",
       "        vertical-align: top;\n",
       "    }\n",
       "\n",
       "    .dataframe thead th {\n",
       "        text-align: right;\n",
       "    }\n",
       "</style>\n",
       "<table border=\"1\" class=\"dataframe\">\n",
       "  <thead>\n",
       "    <tr style=\"text-align: right;\">\n",
       "      <th></th>\n",
       "      <th>id</th>\n",
       "      <th>title</th>\n",
       "      <th>language</th>\n",
       "      <th>category</th>\n",
       "    </tr>\n",
       "  </thead>\n",
       "  <tbody>\n",
       "    <tr>\n",
       "      <td>0</td>\n",
       "      <td>0</td>\n",
       "      <td>kit maternidade bolsa mala baby bebe vinho men...</td>\n",
       "      <td>portuguese</td>\n",
       "      <td>DIAPER_BAGS</td>\n",
       "    </tr>\n",
       "    <tr>\n",
       "      <td>1</td>\n",
       "      <td>1</td>\n",
       "      <td>trocador de fraldas fisher price feminino rosa...</td>\n",
       "      <td>portuguese</td>\n",
       "      <td>BABY_DIAPERS</td>\n",
       "    </tr>\n",
       "    <tr>\n",
       "      <td>2</td>\n",
       "      <td>2</td>\n",
       "      <td>motor ventoinha fiat idea palio</td>\n",
       "      <td>portuguese</td>\n",
       "      <td>ENGINE_COOLING_FAN_MOTORS</td>\n",
       "    </tr>\n",
       "    <tr>\n",
       "      <td>3</td>\n",
       "      <td>3</td>\n",
       "      <td>amortecedor mola batente dir new civic</td>\n",
       "      <td>portuguese</td>\n",
       "      <td>AUTOMOTIVE_SHOCK_ABSORBER_BUMP_STOPS</td>\n",
       "    </tr>\n",
       "    <tr>\n",
       "      <td>4</td>\n",
       "      <td>4</td>\n",
       "      <td>cadeirinha de carro bebe princesa princess kgs</td>\n",
       "      <td>portuguese</td>\n",
       "      <td>BABY_CAR_SEATS</td>\n",
       "    </tr>\n",
       "  </tbody>\n",
       "</table>\n",
       "</div>"
      ],
      "text/plain": [
       "   id                                              title    language  \\\n",
       "0   0  kit maternidade bolsa mala baby bebe vinho men...  portuguese   \n",
       "1   1  trocador de fraldas fisher price feminino rosa...  portuguese   \n",
       "2   2                    motor ventoinha fiat idea palio  portuguese   \n",
       "3   3             amortecedor mola batente dir new civic  portuguese   \n",
       "4   4     cadeirinha de carro bebe princesa princess kgs  portuguese   \n",
       "\n",
       "                               category  \n",
       "0                           DIAPER_BAGS  \n",
       "1                          BABY_DIAPERS  \n",
       "2             ENGINE_COOLING_FAN_MOTORS  \n",
       "3  AUTOMOTIVE_SHOCK_ABSORBER_BUMP_STOPS  \n",
       "4                        BABY_CAR_SEATS  "
      ]
     },
     "execution_count": 28,
     "metadata": {},
     "output_type": "execute_result"
    }
   ],
   "source": [
    "df_pred_portuguese.head()"
   ]
  },
  {
   "cell_type": "code",
   "execution_count": 29,
   "metadata": {
    "ExecuteTime": {
     "end_time": "2019-10-01T17:41:36.608818Z",
     "start_time": "2019-10-01T17:41:36.190905Z"
    }
   },
   "outputs": [],
   "source": [
    "df_pred_portuguese.to_csv('submit/submit_lstm_portuguese_2.csv',index=False)"
   ]
  },
  {
   "cell_type": "code",
   "execution_count": null,
   "metadata": {},
   "outputs": [],
   "source": []
  }
 ],
 "metadata": {
  "kernelspec": {
   "display_name": "Python 3",
   "language": "python",
   "name": "python3"
  },
  "language_info": {
   "codemirror_mode": {
    "name": "ipython",
    "version": 3
   },
   "file_extension": ".py",
   "mimetype": "text/x-python",
   "name": "python",
   "nbconvert_exporter": "python",
   "pygments_lexer": "ipython3",
   "version": "3.7.4"
  },
  "toc": {
   "base_numbering": 1,
   "nav_menu": {},
   "number_sections": true,
   "sideBar": true,
   "skip_h1_title": false,
   "title_cell": "Table of Contents",
   "title_sidebar": "Contents",
   "toc_cell": false,
   "toc_position": {},
   "toc_section_display": true,
   "toc_window_display": false
  },
  "varInspector": {
   "cols": {
    "lenName": 16,
    "lenType": 16,
    "lenVar": 40
   },
   "kernels_config": {
    "python": {
     "delete_cmd_postfix": "",
     "delete_cmd_prefix": "del ",
     "library": "var_list.py",
     "varRefreshCmd": "print(var_dic_list())"
    },
    "r": {
     "delete_cmd_postfix": ") ",
     "delete_cmd_prefix": "rm(",
     "library": "var_list.r",
     "varRefreshCmd": "cat(var_dic_list()) "
    }
   },
   "types_to_exclude": [
    "module",
    "function",
    "builtin_function_or_method",
    "instance",
    "_Feature"
   ],
   "window_display": false
  }
 },
 "nbformat": 4,
 "nbformat_minor": 2
}
