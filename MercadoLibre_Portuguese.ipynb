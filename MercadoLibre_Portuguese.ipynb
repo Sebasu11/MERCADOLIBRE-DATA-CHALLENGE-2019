{
 "cells": [
  {
   "cell_type": "markdown",
   "metadata": {},
   "source": [
    "# Librerias"
   ]
  },
  {
   "cell_type": "code",
   "execution_count": 1,
   "metadata": {
    "ExecuteTime": {
     "end_time": "2019-09-26T02:19:12.780244Z",
     "start_time": "2019-09-26T02:19:11.408881Z"
    }
   },
   "outputs": [],
   "source": [
    "import pandas as pd\n",
    "import numpy as np\n",
    "#import nltk\n",
    "#import spacy\n",
    "import re\n",
    "import unicodedata\n",
    "#nlp = spacy.load('pt_core_news_sm')\n",
    "%matplotlib inline"
   ]
  },
  {
   "cell_type": "code",
   "execution_count": 2,
   "metadata": {
    "ExecuteTime": {
     "end_time": "2019-09-26T02:19:12.784203Z",
     "start_time": "2019-09-26T02:19:12.781210Z"
    }
   },
   "outputs": [],
   "source": [
    "import warnings\n",
    "warnings.filterwarnings('ignore')"
   ]
  },
  {
   "cell_type": "markdown",
   "metadata": {},
   "source": [
    "# data"
   ]
  },
  {
   "cell_type": "code",
   "execution_count": 3,
   "metadata": {
    "ExecuteTime": {
     "end_time": "2019-09-26T02:19:39.761887Z",
     "start_time": "2019-09-26T02:19:12.786197Z"
    }
   },
   "outputs": [],
   "source": [
    "df=pd.read_csv('data/train.csv')"
   ]
  },
  {
   "cell_type": "markdown",
   "metadata": {},
   "source": [
    "# Filter"
   ]
  },
  {
   "cell_type": "code",
   "execution_count": 4,
   "metadata": {
    "ExecuteTime": {
     "end_time": "2019-09-26T02:19:43.005250Z",
     "start_time": "2019-09-26T02:19:39.762885Z"
    }
   },
   "outputs": [],
   "source": [
    "temp1=df[df['label_quality']=='unreliable']['category'].tolist()\n",
    "temp2=df[df['label_quality']=='reliable']['category'].tolist()"
   ]
  },
  {
   "cell_type": "code",
   "execution_count": 5,
   "metadata": {
    "ExecuteTime": {
     "end_time": "2019-09-26T02:19:43.744423Z",
     "start_time": "2019-09-26T02:19:43.007211Z"
    },
    "scrolled": false
   },
   "outputs": [],
   "source": [
    "cat_not_in_reliable=list(set(temp1) - set(temp2))"
   ]
  },
  {
   "cell_type": "code",
   "execution_count": 6,
   "metadata": {
    "ExecuteTime": {
     "end_time": "2019-09-26T02:19:46.359272Z",
     "start_time": "2019-09-26T02:19:43.745238Z"
    }
   },
   "outputs": [],
   "source": [
    "cat_count=df[(df['label_quality']=='reliable')|(df['category'].isin(cat_not_in_reliable))]['category'].value_counts()"
   ]
  },
  {
   "cell_type": "code",
   "execution_count": 7,
   "metadata": {
    "ExecuteTime": {
     "end_time": "2019-09-26T02:19:46.448008Z",
     "start_time": "2019-09-26T02:19:46.361241Z"
    }
   },
   "outputs": [],
   "source": [
    "cat_low_count=cat_count[cat_count<4000].index.tolist()"
   ]
  },
  {
   "cell_type": "code",
   "execution_count": 8,
   "metadata": {
    "ExecuteTime": {
     "end_time": "2019-09-26T02:19:50.955955Z",
     "start_time": "2019-09-26T02:19:46.450002Z"
    }
   },
   "outputs": [],
   "source": [
    "df=df[(df['label_quality']=='reliable')|(df['category'].isin(cat_not_in_reliable))|(df['category'].isin(cat_low_count))]"
   ]
  },
  {
   "cell_type": "code",
   "execution_count": 9,
   "metadata": {
    "ExecuteTime": {
     "end_time": "2019-09-26T02:19:59.125107Z",
     "start_time": "2019-09-26T02:19:50.957950Z"
    }
   },
   "outputs": [],
   "source": [
    "#df_portuguese = df[df['language']=='portuguese']\n",
    "#df_portuguese=df_portuguese.groupby('category').filter(lambda x:len(x)>=20)\n",
    "#counts_portuguese = df_portuguese['category'].value_counts()\n",
    "\n",
    "all_cat=df['category'].value_counts()\n",
    "\n",
    "all_cat=all_cat[all_cat<=400].index.tolist()\n",
    "\n",
    "df_portuguese_temp        = df[df['language']=='portuguese']\n",
    "counts_portuguese = df_portuguese_temp['category'].value_counts()\n",
    "low_portuguese=counts_portuguese[counts_portuguese<200]\n",
    "\n",
    "df_portuguese=df[(df['language']=='portuguese')|\\\n",
    "              (~df['category'].isin(counts_portuguese.index))|\\\n",
    "              (df['category'].isin(all_cat))|\\\n",
    "              (df['category'].isin(low_portuguese.index))]"
   ]
  },
  {
   "cell_type": "markdown",
   "metadata": {},
   "source": [
    "# ML"
   ]
  },
  {
   "cell_type": "markdown",
   "metadata": {},
   "source": [
    "## Preprocessing"
   ]
  },
  {
   "cell_type": "code",
   "execution_count": 10,
   "metadata": {
    "ExecuteTime": {
     "end_time": "2019-09-26T02:19:59.133085Z",
     "start_time": "2019-09-26T02:19:59.127117Z"
    }
   },
   "outputs": [],
   "source": [
    "def clean_text(text) :\n",
    "    text=unicodedata.normalize('NFKD', str(text)).encode('ascii', errors='ignore').decode('utf-8')\\\n",
    "    .lower().replace(r'\\\\n','').replace(r'-',' ').replace(r'.','').strip()\n",
    "    text = re.sub(\"[^a-zA-Z]\", \" \", str(text))\n",
    "    return \" \".join(text.split())"
   ]
  },
  {
   "cell_type": "code",
   "execution_count": 11,
   "metadata": {
    "ExecuteTime": {
     "end_time": "2019-09-26T02:19:59.140068Z",
     "start_time": "2019-09-26T02:19:59.135080Z"
    }
   },
   "outputs": [],
   "source": [
    "def lemmatization(text):\n",
    "    txt = nlp(text)\n",
    "    lemmatize_sentence=[]\n",
    "    for token in txt:\n",
    "        lemmatize_sentence.append(token.lemma_)\n",
    "    return \" \".join(lemmatize_sentence)"
   ]
  },
  {
   "cell_type": "markdown",
   "metadata": {},
   "source": [
    "## Sample"
   ]
  },
  {
   "cell_type": "code",
   "execution_count": 12,
   "metadata": {
    "ExecuteTime": {
     "end_time": "2019-09-26T02:20:00.104515Z",
     "start_time": "2019-09-26T02:19:59.143060Z"
    }
   },
   "outputs": [],
   "source": [
    "sampling_portuguese={}\n",
    "counts_portuguese  = df_portuguese['category'].value_counts()\n",
    "for cat in counts_portuguese.index:\n",
    "    if counts_portuguese.loc[cat]>2200:\n",
    "        sampling_portuguese[cat]=2200\n",
    "    else:\n",
    "        sampling_portuguese[cat]=counts_portuguese.loc[cat]"
   ]
  },
  {
   "cell_type": "code",
   "execution_count": 13,
   "metadata": {
    "ExecuteTime": {
     "end_time": "2019-09-26T02:20:01.083869Z",
     "start_time": "2019-09-26T02:20:00.106483Z"
    }
   },
   "outputs": [
    {
     "data": {
      "text/plain": [
       "CAR_AV_RECEIVERS                        17788\n",
       "WHEELS_BEARINGS                         17499\n",
       "WALL_CLOCKS                             17335\n",
       "FISHING_LINES                           16703\n",
       "CV_JOINTS                               16553\n",
       "                                        ...  \n",
       "CONSTRUCTION_LIME_BAGS                    206\n",
       "COLD_FOOD_AND_DRINK_VENDING_MACHINES      162\n",
       "PAINTBALL_SMOKE_GRENADES                  154\n",
       "COMMERCIAL_POPCORN_MACHINES               141\n",
       "HAMBURGER_FORMERS                         109\n",
       "Name: category, Length: 1588, dtype: int64"
      ]
     },
     "execution_count": 13,
     "metadata": {},
     "output_type": "execute_result"
    }
   ],
   "source": [
    "df_portuguese['category'].value_counts()"
   ]
  },
  {
   "cell_type": "code",
   "execution_count": 14,
   "metadata": {
    "ExecuteTime": {
     "end_time": "2019-09-26T02:20:24.225698Z",
     "start_time": "2019-09-26T02:20:01.085863Z"
    }
   },
   "outputs": [],
   "source": [
    "from imblearn.pipeline import Pipeline as make_pipeline_imb\n",
    "from imblearn.over_sampling import SMOTE,BorderlineSMOTE\n",
    "from sklearn.feature_extraction.text import TfidfVectorizer,CountVectorizer\n",
    "from sklearn.naive_bayes import MultinomialNB\n",
    "from sklearn.svm import LinearSVC\n",
    "from sklearn.model_selection import train_test_split\n",
    "from imblearn.under_sampling import RandomUnderSampler"
   ]
  },
  {
   "cell_type": "code",
   "execution_count": 15,
   "metadata": {
    "ExecuteTime": {
     "end_time": "2019-09-26T02:20:24.233428Z",
     "start_time": "2019-09-26T02:20:24.228474Z"
    }
   },
   "outputs": [],
   "source": [
    "from sklearn.metrics import balanced_accuracy_score"
   ]
  },
  {
   "cell_type": "code",
   "execution_count": 16,
   "metadata": {
    "ExecuteTime": {
     "end_time": "2019-09-26T02:20:24.392335Z",
     "start_time": "2019-09-26T02:20:24.235418Z"
    }
   },
   "outputs": [],
   "source": [
    "X_portuguese = df_portuguese['title']\n",
    "y_portuguese = df_portuguese['category']"
   ]
  },
  {
   "cell_type": "code",
   "execution_count": 17,
   "metadata": {
    "ExecuteTime": {
     "end_time": "2019-09-26T02:27:23.796893Z",
     "start_time": "2019-09-26T02:20:24.393330Z"
    }
   },
   "outputs": [],
   "source": [
    "rus_portuguese = RandomUnderSampler(sampling_strategy=sampling_portuguese,random_state=42)\n",
    "X_res_portuguese, y_res_portuguese = rus_portuguese.fit_resample(X_portuguese.values.reshape(-1, 1), y_portuguese)"
   ]
  },
  {
   "cell_type": "code",
   "execution_count": 18,
   "metadata": {
    "ExecuteTime": {
     "end_time": "2019-09-26T02:27:24.845010Z",
     "start_time": "2019-09-26T02:27:23.798761Z"
    }
   },
   "outputs": [],
   "source": [
    "#PORTUGUESE\n",
    "X_res_portuguese=pd.DataFrame(X_res_portuguese)\n",
    "X_res_portuguese.columns=['title']\n",
    "X_res_portuguese['title']=X_res_portuguese['title'].astype('str')\n",
    "y_res_portuguese=pd.Series(y_res_portuguese)"
   ]
  },
  {
   "cell_type": "code",
   "execution_count": 19,
   "metadata": {
    "ExecuteTime": {
     "end_time": "2019-09-26T02:27:25.101278Z",
     "start_time": "2019-09-26T02:27:24.845959Z"
    }
   },
   "outputs": [
    {
     "name": "stdout",
     "output_type": "stream",
     "text": [
      "YOGA_MATS                               2200\n",
      "GRILL_GRATES                            2200\n",
      "SHOWER_CURTAINS                         2200\n",
      "SHAVING_CREAMS                          2200\n",
      "SPARK_PLUGS                             2200\n",
      "                                        ... \n",
      "CONSTRUCTION_LIME_BAGS                   206\n",
      "COLD_FOOD_AND_DRINK_VENDING_MACHINES     162\n",
      "PAINTBALL_SMOKE_GRENADES                 154\n",
      "COMMERCIAL_POPCORN_MACHINES              141\n",
      "HAMBURGER_FORMERS                        109\n",
      "Length: 1588, dtype: int64\n"
     ]
    }
   ],
   "source": [
    "print(y_res_portuguese.value_counts())"
   ]
  },
  {
   "cell_type": "markdown",
   "metadata": {},
   "source": [
    "## lemmatization"
   ]
  },
  {
   "cell_type": "code",
   "execution_count": 20,
   "metadata": {
    "ExecuteTime": {
     "end_time": "2019-09-26T02:27:25.175113Z",
     "start_time": "2019-09-26T02:27:25.102275Z"
    }
   },
   "outputs": [],
   "source": [
    "#spacy_stopwords = spacy.lang.es.stop_words.STOP_WORDS"
   ]
  },
  {
   "cell_type": "code",
   "execution_count": 21,
   "metadata": {
    "ExecuteTime": {
     "end_time": "2019-09-26T02:27:25.180066Z",
     "start_time": "2019-09-26T02:27:25.177073Z"
    }
   },
   "outputs": [],
   "source": [
    "#X_res_portuguese['title']=X_res_portuguese['title'].apply(lemmatization)"
   ]
  },
  {
   "cell_type": "markdown",
   "metadata": {},
   "source": [
    "## CLEAN"
   ]
  },
  {
   "cell_type": "code",
   "execution_count": 22,
   "metadata": {
    "ExecuteTime": {
     "end_time": "2019-09-26T02:27:42.620426Z",
     "start_time": "2019-09-26T02:27:25.181063Z"
    }
   },
   "outputs": [],
   "source": [
    "X_res_portuguese['title']=X_res_portuguese['title'].apply(clean_text)"
   ]
  },
  {
   "cell_type": "markdown",
   "metadata": {},
   "source": [
    "## train_test_split"
   ]
  },
  {
   "cell_type": "code",
   "execution_count": 23,
   "metadata": {
    "ExecuteTime": {
     "end_time": "2019-09-26T02:27:46.736454Z",
     "start_time": "2019-09-26T02:27:42.623457Z"
    }
   },
   "outputs": [],
   "source": [
    "X_train_portuguese, X_test_portuguese, y_train_portuguese, y_test_portuguese = train_test_split(X_res_portuguese['title'],\n",
    "                                                                                                y_res_portuguese,\n",
    "                                                                                                test_size=0.46,\n",
    "                                                                                                random_state=42,\n",
    "                                                                                                stratify=y_res_portuguese)"
   ]
  },
  {
   "cell_type": "code",
   "execution_count": 24,
   "metadata": {
    "ExecuteTime": {
     "end_time": "2019-09-26T02:27:46.742405Z",
     "start_time": "2019-09-26T02:27:46.738448Z"
    }
   },
   "outputs": [
    {
     "name": "stdout",
     "output_type": "stream",
     "text": [
      "X_train_portuguese :  (1676952,)\n"
     ]
    }
   ],
   "source": [
    "print('X_train_portuguese : ',X_train_portuguese.shape)"
   ]
  },
  {
   "cell_type": "code",
   "execution_count": 25,
   "metadata": {
    "ExecuteTime": {
     "end_time": "2019-09-26T02:27:46.747393Z",
     "start_time": "2019-09-26T02:27:46.743401Z"
    }
   },
   "outputs": [
    {
     "name": "stdout",
     "output_type": "stream",
     "text": [
      "y_train_portuguese :  (1676952,)\n"
     ]
    }
   ],
   "source": [
    "print('y_train_portuguese : ',y_train_portuguese.shape)"
   ]
  },
  {
   "cell_type": "code",
   "execution_count": 26,
   "metadata": {
    "ExecuteTime": {
     "end_time": "2019-09-26T02:27:47.176245Z",
     "start_time": "2019-09-26T02:27:46.749386Z"
    }
   },
   "outputs": [
    {
     "name": "stdout",
     "output_type": "stream",
     "text": [
      "y_train_portuguese : \n",
      "  YOGA_MATS                               1188\n",
      "MICROWAVES                              1188\n",
      "CLASSIC_CARS                            1188\n",
      "RAM_MEMORY_MODULES                      1188\n",
      "STARTERS                                1188\n",
      "                                        ... \n",
      "CONSTRUCTION_LIME_BAGS                   111\n",
      "COLD_FOOD_AND_DRINK_VENDING_MACHINES      87\n",
      "PAINTBALL_SMOKE_GRENADES                  83\n",
      "COMMERCIAL_POPCORN_MACHINES               76\n",
      "HAMBURGER_FORMERS                         59\n",
      "Length: 1588, dtype: int64\n"
     ]
    }
   ],
   "source": [
    "print('y_train_portuguese : \\n ',y_train_portuguese.value_counts())"
   ]
  },
  {
   "cell_type": "code",
   "execution_count": 27,
   "metadata": {
    "ExecuteTime": {
     "end_time": "2019-09-26T02:27:47.448549Z",
     "start_time": "2019-09-26T02:27:47.177241Z"
    }
   },
   "outputs": [
    {
     "name": "stdout",
     "output_type": "stream",
     "text": [
      "y_test_portuguese :  1588\n"
     ]
    }
   ],
   "source": [
    "print('y_test_portuguese : ',y_test_portuguese.nunique())"
   ]
  },
  {
   "cell_type": "code",
   "execution_count": 28,
   "metadata": {
    "ExecuteTime": {
     "end_time": "2019-09-26T02:27:47.788608Z",
     "start_time": "2019-09-26T02:27:47.449513Z"
    }
   },
   "outputs": [
    {
     "name": "stdout",
     "output_type": "stream",
     "text": [
      "y_test_portuguese : \n",
      " YOGA_MATS                               1012\n",
      "PORTABLE_HANGING_SCALES                 1012\n",
      "RAM_MEMORY_MODULES                      1012\n",
      "STARTERS                                1012\n",
      "VACUUM_TUBES                            1012\n",
      "                                        ... \n",
      "CONSTRUCTION_LIME_BAGS                    95\n",
      "COLD_FOOD_AND_DRINK_VENDING_MACHINES      75\n",
      "PAINTBALL_SMOKE_GRENADES                  71\n",
      "COMMERCIAL_POPCORN_MACHINES               65\n",
      "HAMBURGER_FORMERS                         50\n",
      "Length: 1588, dtype: int64\n"
     ]
    }
   ],
   "source": [
    "print('y_test_portuguese : \\n',y_test_portuguese.value_counts())"
   ]
  },
  {
   "cell_type": "markdown",
   "metadata": {},
   "source": [
    "## MultinomialNB"
   ]
  },
  {
   "cell_type": "code",
   "execution_count": 25,
   "metadata": {
    "ExecuteTime": {
     "end_time": "2019-09-13T15:40:17.930916Z",
     "start_time": "2019-09-13T15:40:17.925901Z"
    }
   },
   "outputs": [],
   "source": [
    "bayes_text_clf =  make_pipeline_imb([('CountVectorizer', CountVectorizer(encoding='latin-1',\n",
    "                                                               max_df=0.90,\n",
    "                                                               min_df=5,\n",
    "                                                               max_features=100000,\n",
    "                                                               #stop_words=list(spacy_stopwords),\n",
    "                                                              )),\n",
    "                                     ('SMOTE',SMOTE(random_state=42)),\n",
    "                                     ('MultinomialNB',  MultinomialNB())])"
   ]
  },
  {
   "cell_type": "code",
   "execution_count": 27,
   "metadata": {
    "ExecuteTime": {
     "end_time": "2019-09-13T15:54:04.502348Z",
     "start_time": "2019-09-13T15:54:04.499390Z"
    }
   },
   "outputs": [],
   "source": [
    "bayes_portuguese_clf=bayes_text_clf.fit(X_train_portuguese,y_train_portuguese)"
   ]
  },
  {
   "cell_type": "code",
   "execution_count": null,
   "metadata": {
    "ExecuteTime": {
     "end_time": "2019-09-13T15:27:07.283971Z",
     "start_time": "2019-09-13T15:14:42.953Z"
    }
   },
   "outputs": [],
   "source": [
    "y_pred_portuguese = bayes_portuguese_clf.predict(X_test_portuguese.head(X_test_portuguese.shape[0]//2))\n",
    "balanced_accuracy_score(y_test_portuguese.head(X_test_portuguese.shape[0]//2), y_pred_portuguese)"
   ]
  },
  {
   "cell_type": "code",
   "execution_count": null,
   "metadata": {
    "ExecuteTime": {
     "end_time": "2019-09-13T15:27:07.287960Z",
     "start_time": "2019-09-13T15:14:43.191Z"
    }
   },
   "outputs": [],
   "source": [
    "y_pred_portuguese = bayes_portuguese_clf.predict(X_test_portuguese.tail(X_test_portuguese.shape[0]//2))\n",
    "balanced_accuracy_score(y_test_portuguese.tail(X_test_portuguese.shape[0]//2), y_pred_portuguese)"
   ]
  },
  {
   "cell_type": "code",
   "execution_count": null,
   "metadata": {
    "ExecuteTime": {
     "end_time": "2019-09-13T15:27:07.292974Z",
     "start_time": "2019-09-13T15:14:43.367Z"
    }
   },
   "outputs": [],
   "source": [
    "y_pred_portuguese = bayes_portuguese_clf.predict(X_test_portuguese)\n",
    "balanced_accuracy_score(y_test_portuguese, y_pred_portuguese)"
   ]
  },
  {
   "cell_type": "code",
   "execution_count": 30,
   "metadata": {
    "ExecuteTime": {
     "end_time": "2019-09-13T22:35:29.483146Z",
     "start_time": "2019-09-13T18:36:19.617954Z"
    }
   },
   "outputs": [],
   "source": [
    "LinearSVC_portuguese_clf=LinearSVC_text_clf.fit(X_train_portuguese,y_train_portuguese)"
   ]
  },
  {
   "cell_type": "code",
   "execution_count": 31,
   "metadata": {
    "ExecuteTime": {
     "end_time": "2019-09-13T22:35:38.865136Z",
     "start_time": "2019-09-13T22:35:38.582858Z"
    }
   },
   "outputs": [
    {
     "data": {
      "text/plain": [
       "1588"
      ]
     },
     "execution_count": 31,
     "metadata": {},
     "output_type": "execute_result"
    }
   ],
   "source": [
    "y_test_portuguese.nunique()"
   ]
  },
  {
   "cell_type": "code",
   "execution_count": 32,
   "metadata": {
    "ExecuteTime": {
     "end_time": "2019-09-13T22:35:47.942888Z",
     "start_time": "2019-09-13T22:35:47.938908Z"
    }
   },
   "outputs": [
    {
     "data": {
      "text/plain": [
       "(1399530,)"
      ]
     },
     "execution_count": 32,
     "metadata": {},
     "output_type": "execute_result"
    }
   ],
   "source": [
    "X_test_portuguese.shape"
   ]
  },
  {
   "cell_type": "markdown",
   "metadata": {},
   "source": [
    "## SVM Linear TfidfVectorizer SMOTE"
   ]
  },
  {
   "cell_type": "code",
   "execution_count": 29,
   "metadata": {
    "ExecuteTime": {
     "end_time": "2019-09-26T02:28:51.060900Z",
     "start_time": "2019-09-26T02:28:51.057881Z"
    }
   },
   "outputs": [],
   "source": [
    "LinearSVC_text_clf =  make_pipeline_imb([('TfidfVectorizer', TfidfVectorizer(encoding='latin-1',\n",
    "                                                               max_df=0.90,\n",
    "                                                               min_df=5,\n",
    "                                                               max_features=150000,\n",
    "                                                               #stop_words=list(spacy_stopwords),\n",
    "                                                              )),\n",
    "                                     ('SMOTE',SMOTE(random_state=42)),\n",
    "                                     ('LinearSVC',  LinearSVC())])"
   ]
  },
  {
   "cell_type": "code",
   "execution_count": 30,
   "metadata": {
    "ExecuteTime": {
     "end_time": "2019-09-26T06:50:16.227770Z",
     "start_time": "2019-09-26T02:28:53.312844Z"
    }
   },
   "outputs": [],
   "source": [
    "LinearSVC_portuguese_clf=LinearSVC_text_clf.fit(X_train_portuguese,y_train_portuguese)"
   ]
  },
  {
   "cell_type": "code",
   "execution_count": 31,
   "metadata": {
    "ExecuteTime": {
     "end_time": "2019-09-26T06:50:18.760402Z",
     "start_time": "2019-09-26T06:50:18.475166Z"
    }
   },
   "outputs": [
    {
     "data": {
      "text/plain": [
       "1588"
      ]
     },
     "execution_count": 31,
     "metadata": {},
     "output_type": "execute_result"
    }
   ],
   "source": [
    "y_test_portuguese.nunique()"
   ]
  },
  {
   "cell_type": "code",
   "execution_count": 32,
   "metadata": {
    "ExecuteTime": {
     "end_time": "2019-09-26T06:50:20.983489Z",
     "start_time": "2019-09-26T06:50:20.980464Z"
    }
   },
   "outputs": [
    {
     "data": {
      "text/plain": [
       "(1428516,)"
      ]
     },
     "execution_count": 32,
     "metadata": {},
     "output_type": "execute_result"
    }
   ],
   "source": [
    "X_test_portuguese.shape"
   ]
  },
  {
   "cell_type": "code",
   "execution_count": 33,
   "metadata": {
    "ExecuteTime": {
     "end_time": "2019-09-26T06:50:44.968317Z",
     "start_time": "2019-09-26T06:50:23.202521Z"
    }
   },
   "outputs": [
    {
     "data": {
      "text/plain": [
       "0.8555814922105924"
      ]
     },
     "execution_count": 33,
     "metadata": {},
     "output_type": "execute_result"
    }
   ],
   "source": [
    "y_pred_portuguese = LinearSVC_portuguese_clf.predict(X_test_portuguese.head(X_test_portuguese.shape[0]//2))\n",
    "balanced_accuracy_score(y_test_portuguese.head(X_test_portuguese.shape[0]//2), y_pred_portuguese)"
   ]
  },
  {
   "cell_type": "code",
   "execution_count": 34,
   "metadata": {
    "ExecuteTime": {
     "end_time": "2019-09-26T06:50:47.283158Z",
     "start_time": "2019-09-26T06:50:47.279136Z"
    }
   },
   "outputs": [
    {
     "data": {
      "text/plain": [
       "0.8519735090261912"
      ]
     },
     "execution_count": 34,
     "metadata": {},
     "output_type": "execute_result"
    }
   ],
   "source": [
    "0.8519735090261912"
   ]
  },
  {
   "cell_type": "code",
   "execution_count": 35,
   "metadata": {
    "ExecuteTime": {
     "end_time": "2019-09-26T06:51:10.196850Z",
     "start_time": "2019-09-26T06:50:49.517151Z"
    }
   },
   "outputs": [
    {
     "data": {
      "text/plain": [
       "0.8553832317964092"
      ]
     },
     "execution_count": 35,
     "metadata": {},
     "output_type": "execute_result"
    }
   ],
   "source": [
    "y_pred_portuguese = LinearSVC_portuguese_clf.predict(X_test_portuguese.tail(X_test_portuguese.shape[0]//2))\n",
    "balanced_accuracy_score(y_test_portuguese.tail(X_test_portuguese.shape[0]//2), y_pred_portuguese)"
   ]
  },
  {
   "cell_type": "code",
   "execution_count": 36,
   "metadata": {
    "ExecuteTime": {
     "end_time": "2019-09-26T06:51:12.475790Z",
     "start_time": "2019-09-26T06:51:12.470770Z"
    }
   },
   "outputs": [
    {
     "data": {
      "text/plain": [
       "0.8516783227482038"
      ]
     },
     "execution_count": 36,
     "metadata": {},
     "output_type": "execute_result"
    }
   ],
   "source": [
    "0.8516783227482038"
   ]
  },
  {
   "cell_type": "markdown",
   "metadata": {},
   "source": [
    "# Save Model"
   ]
  },
  {
   "cell_type": "code",
   "execution_count": 37,
   "metadata": {
    "ExecuteTime": {
     "end_time": "2019-09-26T06:51:14.710779Z",
     "start_time": "2019-09-26T06:51:14.706790Z"
    }
   },
   "outputs": [],
   "source": [
    "import pickle"
   ]
  },
  {
   "cell_type": "code",
   "execution_count": 38,
   "metadata": {
    "ExecuteTime": {
     "end_time": "2019-09-26T09:03:44.577651Z",
     "start_time": "2019-09-26T09:03:38.119461Z"
    }
   },
   "outputs": [],
   "source": [
    "filename = 'LinearSVC_tfidf_SMOTE_MORE_FEATURES_DATAportuguese_clf_2.sav'\n",
    "pickle.dump(LinearSVC_portuguese_clf, open(filename, 'wb'))"
   ]
  },
  {
   "cell_type": "code",
   "execution_count": null,
   "metadata": {},
   "outputs": [],
   "source": []
  },
  {
   "cell_type": "code",
   "execution_count": null,
   "metadata": {},
   "outputs": [],
   "source": []
  }
 ],
 "metadata": {
  "kernelspec": {
   "display_name": "Python 3",
   "language": "python",
   "name": "python3"
  },
  "language_info": {
   "codemirror_mode": {
    "name": "ipython",
    "version": 3
   },
   "file_extension": ".py",
   "mimetype": "text/x-python",
   "name": "python",
   "nbconvert_exporter": "python",
   "pygments_lexer": "ipython3",
   "version": "3.6.5"
  },
  "toc": {
   "base_numbering": 1,
   "nav_menu": {},
   "number_sections": true,
   "sideBar": true,
   "skip_h1_title": false,
   "title_cell": "Table of Contents",
   "title_sidebar": "Contents",
   "toc_cell": false,
   "toc_position": {
    "height": "calc(100% - 180px)",
    "left": "10px",
    "top": "150px",
    "width": "279.273px"
   },
   "toc_section_display": true,
   "toc_window_display": false
  },
  "varInspector": {
   "cols": {
    "lenName": 16,
    "lenType": 16,
    "lenVar": 40
   },
   "kernels_config": {
    "python": {
     "delete_cmd_postfix": "",
     "delete_cmd_prefix": "del ",
     "library": "var_list.py",
     "varRefreshCmd": "print(var_dic_list())"
    },
    "r": {
     "delete_cmd_postfix": ") ",
     "delete_cmd_prefix": "rm(",
     "library": "var_list.r",
     "varRefreshCmd": "cat(var_dic_list()) "
    }
   },
   "types_to_exclude": [
    "module",
    "function",
    "builtin_function_or_method",
    "instance",
    "_Feature"
   ],
   "window_display": false
  }
 },
 "nbformat": 4,
 "nbformat_minor": 2
}
